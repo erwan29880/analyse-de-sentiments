{
 "cells": [
  {
   "cell_type": "code",
   "execution_count": 24,
   "metadata": {},
   "outputs": [],
   "source": [
    "import re\n",
    "import unidecode\n",
    "\n",
    "import pandas as pd\n",
    "import numpy as np\n",
    "\n",
    "import joblib\n",
    "import json\n",
    "\n",
    "from nltk.corpus import stopwords\n",
    "import nltk\n",
    "from nltk.stem.snowball import SnowballStemmer"
   ]
  },
  {
   "cell_type": "code",
   "execution_count": 28,
   "metadata": {},
   "outputs": [],
   "source": [
    "def replace_par_regex(tex:str, langue='francais') ->str :\n",
    "    \n",
    "    \"\"\"\n",
    "    mets les caractères en minuscule\n",
    "    supprime les caractères non alphabétiques\n",
    "    \"\"\"\n",
    "\n",
    "    # mettre le texte en minuscule\n",
    "    pe = tex.lower()\n",
    "\n",
    "\n",
    "    if langue == 'english':\n",
    "        pe = re.sub('[^a-z_]','_',pe)\n",
    "    else:\n",
    "        pe = re.sub('[^a-zàâçéèêëîïôûùüÿñæœ]', '_', pe)\n",
    "    \n",
    "    # supprimer les mots de 1 ou deux lettres\n",
    "    pe = re.sub('_[a-zàâçéèêëîïôûùüÿñæœ]{1,2}_', '_',pe)\n",
    "\n",
    "    pe = re.sub('[_]{2,}','_',pe)\n",
    "    pe = re.sub('_',' ',pe)\n",
    "    \n",
    "    # supprimer le l qui reste parfois\n",
    "    pe = re.sub(' l ',' ', pe)\n",
    "\n",
    "    return pe\n",
    "\n",
    "\n",
    "\n",
    "\n",
    "\n",
    "def lemm_stem(dataset:str, type='stem'):\n",
    "    \n",
    "    \"\"\"\n",
    "    lemmization ou stemming d'un dataset\n",
    "    pour la lemmization, nécessité d'enlever les accents \n",
    "    retourne le dataset traité\n",
    "    \"\"\"\n",
    "\n",
    "    french_stopwords = nltk.corpus.stopwords.words('french')\n",
    "    stemmer = SnowballStemmer(language='french')\n",
    "   \n",
    "    st = \"\"\n",
    "    var = unidecode.unidecode(dataset)\n",
    "    tokenize_sentence = nltk.tokenize.word_tokenize(var)\n",
    "    words_w_stopwords = [i for i in tokenize_sentence if i not in french_stopwords]\n",
    "    words_stemming = [stemmer.stem(w) for w in words_w_stopwords]\n",
    "    for j in range(len(words_stemming)):\n",
    "        st = st + ' ' + words_stemming[j] + ' '\n",
    "    \n",
    "    return st\n",
    "\n",
    "\n",
    "\n",
    "def intersection(dataframe:str) -> str :\n",
    "    \n",
    "    with open('./json/wordsBag.json', 'r') as f:\n",
    "        sac = np.array(list(json.load(f).keys()))\n",
    "\n",
    "\n",
    "    phra = np.array(dataframe.split())\n",
    "\n",
    "    phra = np.intersect1d(phra, sac)\n",
    "\n",
    "    st = \"\"\n",
    "    for i in range(phra.shape[0]):\n",
    "        st = st + \" \" + phra[i]\n",
    "\n",
    "\n",
    "    return st\n",
    "\n",
    "\n",
    "def prediciton(texte:str):\n",
    "    \n",
    "    var = replace_par_regex(texte)\n",
    "    var = lemm_stem(var)\n",
    "    var = intersection(var)\n",
    "    vec = joblib.load('./joblib/cvec.joblib')\n",
    "    clf = joblib.load('./joblib/model.joblib')\n",
    "\n",
    "    var = pd.DataFrame(vec.transform(var.split()).todense().tolist())\n",
    "    res = clf.predict(var)\n",
    "    pred = pd.Series(res)\n",
    "    rea = pred.value_counts()\n",
    "\n",
    "\n",
    "    if rea.index[0] == 1:\n",
    "        if rea.iloc[0] >= rea.iloc[1]:\n",
    "            note = 'commentaire positif'\n",
    "        else:\n",
    "            note = 'commentaire négatif'\n",
    "    else:\n",
    "        if rea.iloc[0] < rea.iloc[1]:\n",
    "            note = 'commentaire positif'\n",
    "        else:\n",
    "            note = 'commentaire négatif'\n",
    "\n",
    "    return note\n"
   ]
  },
  {
   "cell_type": "markdown",
   "metadata": {},
   "source": [
    "## Quelques commentaires issus du site allociné, non issus des données utilisées auparavant"
   ]
  },
  {
   "cell_type": "code",
   "execution_count": 29,
   "metadata": {},
   "outputs": [],
   "source": [
    "str = \"Un film que je connais déjà depuis bien longtemps car découvert lors de mes années lycées et pourtant, encore aujourd’hui, ce film est encore culte pour moi, au point qu’il occupe toujours dans mon cœur une place à part. J’aime cette atmosphère d’anticipation totalement oppressante mais en même temps gentiment absurde. J’aime cet humour noir corrosif. J’aime cette gourde de Sam Lowry remarquablement interprété par Jonathan Pryce, et j’aime encore plus cet Harry Tuttle – merveilleux plombier terroriste (tout un concept) f – auquel le génial Robert de Niro donne vie. Alors voilà, Brazil c’est de la création visuelle remarquable, une mise en scène parfaite de Terry Gilliam et aussi une bande originale de Michael Kamen qui reste gravé pour l’éternité dans ma mémoire. Donc voilà, si vous voulez savoir ce qui peut susciter ça chez quelqu’un comme moi, vous savez ce qu’il vous reste à faire…\"\n",
    "str1 = \"Décidément, Terry Gilliam, que ce soit pour la science-fiction traditionnelle (L'Armée des 12 singes), ou la science fiction burlesque avec donc ce Brazil, je n'accroche vraiment pas. Et pourtant Dieu sait que j'apprécie particulièrement les films d'anticipation aux histoires dystopiques et tout, mais là c'est vraiment... spécial... très spécial...c'est anglais quoi... ce film n'est pourtant pas dénué de bonne idée avec par exemple ce scénario assez original à la base qui prend avec dérision et ironie les travers de notre société, ou même avec ce pitch scénaristique en lui même où un bug informatique dérègle toute cette societé, mais Gilliam n'exploite pas bien ça en profonfeur et surtout, semble ici ne jamais trouver son juste milieu et se perd dans ce qui peut s'apparenter à un melting-pot des genres assez fouillis et vain dans sa globalité. comme cela a déjà été dit ça oscille entre de la sf, du drame, de la comédie, de la romance ... etc et aucun de ces genres n'est bien dévelloppé au final, ça tend donc vers un exercice des styles frisant l'excès de style justement... Si bien que l'on finit par s'emmêler les pinceaux d'un point de vu narratif. Je voulais dire aussi que l'intrigue s'essouffle à partir du second tiers notamment, mais encore faudrait-il que ça se lance véritablement... c'est bourré de longueur, longuet (d'où je fais un pléonasme ?), la mise en scène et la réflexion se veulent poétiques, parfois métaphoriques et fantasmagoriques, mais tout ça ne prend jamais, et l'ensemble est tellement décousu et pas drôle pour moi (je ne suis vraiment pas sensible à l'humour Monty Pithon, que ce soit dans les dialogues ou bien avec les gags en eux mêmes ) donc on s'ennuie ferme. Mention spéciale au rêve à la con récurrent de ce fontionnaire benêt : d'un chiant abyssal tellement ça n'apporte rien au récit... en plus de ça le héro a le charisme d'un bloc de parpaing, donc pour être intéressé par ces états-d'âme ou bien son sort... Et comme je ne suis pas sensible non plus à l'artistique global du film à part un pan d'architecture par ci par là et quelques clins d'oeil à des classiques de sf, ça fait que j'ai du me forcer pour resté jusqu'au générique final avec ce dénouement qui joue la carte de l'imaginaire si j'ai bien compris. Je ne lui trouve que peu d'intérêt en définitif à part peut-être la bande-sonore vraiment bien dans le ton du film (même si là encore l'excès de certaines autres musiques finit par nous fatiguer) ainsi qu'une bonne petite galerie de personnage bien loufoque comme avec la mère de ce protagoniste principal ou bien évidemment ce second rôle campé par le peu présent De Niro. Pour finir sur l'interprétation globale là je n'aurais en revanche pas grand chose à reprocher à ce Brazil , c'est parfaitement dans le ton du film, c'est ce à quoi je m'attendais et ça le mérite de ne pas trop faire dans le cabotinage je trouve; à part avec la VF peut-être mais sinon c'est relativement bien dosée de ce côté là. Nouvelle déception donc pour ce nouveau Gilliam que je me faisais une joie de découvrir à l'avance.\"\n",
    "str2 = 'Ce film vieillit mal mais il reste sympa à visionner pour la beauté naturelle et la grâce inégalable de Rita Hayworth. Une romance musicale en noir et blanc pour les amateurs du genre.'\n",
    "str3 = 'Bonne interprétation et bonne idée et si le début est plaisant la suite devient vite ennuyeuse, la mise en scène manque de punch pour nous accrocher.'\n",
    "# 1 0 0 0 pour rappel"
   ]
  },
  {
   "cell_type": "markdown",
   "metadata": {},
   "source": [
    "## Prédiction"
   ]
  },
  {
   "cell_type": "markdown",
   "metadata": {},
   "source": [
    "Rentrez une chaîne de caractères dans la fonction prédiction"
   ]
  },
  {
   "cell_type": "code",
   "execution_count": 30,
   "metadata": {},
   "outputs": [
    {
     "data": {
      "text/plain": [
       "'commentaire négatif'"
      ]
     },
     "execution_count": 30,
     "metadata": {},
     "output_type": "execute_result"
    }
   ],
   "source": [
    "prediciton(str3)"
   ]
  }
 ],
 "metadata": {
  "interpreter": {
   "hash": "1215b6d9e98c608af6c98076ac69926165476300228df4abad2e199a1ec40446"
  },
  "kernelspec": {
   "display_name": "Python 3.8.10 ('.env': venv)",
   "language": "python",
   "name": "python3"
  },
  "language_info": {
   "codemirror_mode": {
    "name": "ipython",
    "version": 3
   },
   "file_extension": ".py",
   "mimetype": "text/x-python",
   "name": "python",
   "nbconvert_exporter": "python",
   "pygments_lexer": "ipython3",
   "version": "3.8.10"
  },
  "orig_nbformat": 4
 },
 "nbformat": 4,
 "nbformat_minor": 2
}
