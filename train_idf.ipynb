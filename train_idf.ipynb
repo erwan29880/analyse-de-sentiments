{
 "cells": [
  {
   "cell_type": "code",
   "execution_count": 4,
   "metadata": {},
   "outputs": [],
   "source": [
    "from bs4 import BeautifulSoup\n",
    "import requests\n",
    "import re\n",
    "import unidecode\n",
    "import time\n",
    "import os\n",
    "import json\n",
    "import joblib\n",
    "\n",
    "import matplotlib.pyplot as plt\n",
    "import pandas as pd\n",
    "import numpy as np\n",
    "import seaborn as sb\n",
    "from sklearn.model_selection import train_test_split\n",
    "from sklearn.linear_model import LogisticRegression\n",
    "from sklearn.model_selection import GridSearchCV\n",
    "from sklearn.metrics import confusion_matrix\n",
    "from sklearn.feature_extraction.text import TfidfVectorizer\n",
    "\n",
    "from nltk.corpus import stopwords\n",
    "\n",
    "import warnings\n",
    "warnings.simplefilter('ignore')"
   ]
  },
  {
   "cell_type": "markdown",
   "metadata": {},
   "source": [
    "Importer le fichier csv"
   ]
  },
  {
   "cell_type": "code",
   "execution_count": 5,
   "metadata": {},
   "outputs": [],
   "source": [
    "df = pd.read_csv('data.csv')"
   ]
  },
  {
   "cell_type": "code",
   "execution_count": 6,
   "metadata": {},
   "outputs": [
    {
     "data": {
      "text/html": [
       "<div>\n",
       "<style scoped>\n",
       "    .dataframe tbody tr th:only-of-type {\n",
       "        vertical-align: middle;\n",
       "    }\n",
       "\n",
       "    .dataframe tbody tr th {\n",
       "        vertical-align: top;\n",
       "    }\n",
       "\n",
       "    .dataframe thead th {\n",
       "        text-align: right;\n",
       "    }\n",
       "</style>\n",
       "<table border=\"1\" class=\"dataframe\">\n",
       "  <thead>\n",
       "    <tr style=\"text-align: right;\">\n",
       "      <th></th>\n",
       "      <th>commentaire</th>\n",
       "      <th>note</th>\n",
       "    </tr>\n",
       "  </thead>\n",
       "  <tbody>\n",
       "    <tr>\n",
       "      <th>0</th>\n",
       "      <td>est trop bien les vue juillet ouaisssssssssss...</td>\n",
       "      <td>1.0</td>\n",
       "    </tr>\n",
       "    <tr>\n",
       "      <th>1</th>\n",
       "      <td>surement plus faible la trilogie trop raccour...</td>\n",
       "      <td>1.0</td>\n",
       "    </tr>\n",
       "    <tr>\n",
       "      <th>2</th>\n",
       "      <td>bon film qui mêle aventure fantastique esprit...</td>\n",
       "      <td>1.0</td>\n",
       "    </tr>\n",
       "    <tr>\n",
       "      <th>3</th>\n",
       "      <td>rien dire cette trilogie termine comme elle a...</td>\n",
       "      <td>1.0</td>\n",
       "    </tr>\n",
       "    <tr>\n",
       "      <th>4</th>\n",
       "      <td>incroyable pour moi meilleur scénario tous te...</td>\n",
       "      <td>1.0</td>\n",
       "    </tr>\n",
       "  </tbody>\n",
       "</table>\n",
       "</div>"
      ],
      "text/plain": [
       "                                         commentaire  note\n",
       "0   est trop bien les vue juillet ouaisssssssssss...   1.0\n",
       "1   surement plus faible la trilogie trop raccour...   1.0\n",
       "2   bon film qui mêle aventure fantastique esprit...   1.0\n",
       "3   rien dire cette trilogie termine comme elle a...   1.0\n",
       "4   incroyable pour moi meilleur scénario tous te...   1.0"
      ]
     },
     "execution_count": 6,
     "metadata": {},
     "output_type": "execute_result"
    }
   ],
   "source": [
    "df.head()"
   ]
  },
  {
   "cell_type": "code",
   "execution_count": 5,
   "metadata": {},
   "outputs": [
    {
     "name": "stdout",
     "output_type": "stream",
     "text": [
      "29768--------------- nombre de lignes\n",
      "2------------------- nombre de colonnes\n"
     ]
    }
   ],
   "source": [
    "print(f'{df.shape[0]:-<20} nombre de lignes')\n",
    "print(f'{df.shape[1]:-<20} nombre de colonnes')"
   ]
  },
  {
   "cell_type": "markdown",
   "metadata": {},
   "source": [
    "## Créer un jeu de train, un jeu de test, un jeu de validation"
   ]
  },
  {
   "cell_type": "code",
   "execution_count": 6,
   "metadata": {},
   "outputs": [],
   "source": [
    "data = df.copy()\n",
    "variable = data['commentaire'] \n",
    "target = data['note']\n",
    "\n",
    "X_train_test, X_val, y_train_test, y_val = train_test_split(variable, target, test_size = 0.1, stratify = target)\n",
    "X_train, X_test, y_train, y_test = train_test_split(X_train_test, y_train_test, test_size = 0.2, stratify = y_train_test)"
   ]
  },
  {
   "cell_type": "code",
   "execution_count": 7,
   "metadata": {},
   "outputs": [
    {
     "name": "stdout",
     "output_type": "stream",
     "text": [
      "29768-----nombre de variables totales\n",
      "21432-----nombre de variables du jeu d'entraînement\n",
      "5359------nombre de variables du jeu de test\n",
      "2977------nombre de variables du jeu de validation\n"
     ]
    }
   ],
   "source": [
    "print(f'{variable.shape[0]:-<10}nombre de variables totales')\n",
    "print(f'{X_train.shape[0]:-<10}nombre de variables du jeu d\\'entraînement')\n",
    "print(f'{X_test.shape[0]:-<10}nombre de variables du jeu de test')\n",
    "print(f'{X_val.shape[0]:-<10}nombre de variables du jeu de validation')"
   ]
  },
  {
   "cell_type": "markdown",
   "metadata": {},
   "source": [
    "---------------------------------"
   ]
  },
  {
   "cell_type": "markdown",
   "metadata": {},
   "source": [
    "# Apprentissage"
   ]
  },
  {
   "cell_type": "markdown",
   "metadata": {},
   "source": [
    "### transformer les mots en matrices"
   ]
  },
  {
   "cell_type": "code",
   "execution_count": 8,
   "metadata": {},
   "outputs": [
    {
     "name": "stderr",
     "output_type": "stream",
     "text": [
      "/home/erwan/projets/nlp/.env/lib/python3.8/site-packages/sklearn/feature_extraction/text.py:396: UserWarning: Your stop_words may be inconsistent with your preprocessing. Tokenizing the stop words generated tokens ['etaient', 'etais', 'etait', 'etant', 'etante', 'etantes', 'etants', 'ete', 'etee', 'etees', 'etes', 'etiez', 'etions', 'eumes', 'eutes', 'fumes', 'futes', 'meme'] not in stop_words.\n",
      "  warnings.warn(\n"
     ]
    }
   ],
   "source": [
    "stops = stopwords.words('french')\n",
    "\n",
    "cvec = TfidfVectorizer(max_features=500, decode_error='ignore', stop_words=stops, lowercase=True, strip_accents='ascii')\n",
    "tfidf_matrix = cvec.fit_transform(X_train)\n",
    "feature_names = cvec.get_feature_names_out()\n",
    "dense = tfidf_matrix.todense()\n",
    "denselist = dense.tolist()\n",
    "\n",
    "X_train = pd.DataFrame(denselist, columns=feature_names)"
   ]
  },
  {
   "cell_type": "code",
   "execution_count": 9,
   "metadata": {},
   "outputs": [],
   "source": [
    "test = cvec.transform(X_test)\n",
    "dense = test.todense()\n",
    "denselist = dense.tolist()\n",
    "\n",
    "X_test = pd.DataFrame(denselist, columns=feature_names)"
   ]
  },
  {
   "cell_type": "code",
   "execution_count": 13,
   "metadata": {},
   "outputs": [
    {
     "data": {
      "text/plain": [
       "28598     pas aimé scénario la réalisation beaucoup bru...\n",
       "14271          une merveille scénario de réalisation voir \n",
       "26758     première fois ma vie que ressent tel sentimen...\n",
       "9052      très bon film bon casting mais pensi il faut ...\n",
       "15427     susan un plan bon koi juste comme plan plan b...\n",
       "Name: commentaire, dtype: object"
      ]
     },
     "execution_count": 13,
     "metadata": {},
     "output_type": "execute_result"
    }
   ],
   "source": [
    "X_val.head()"
   ]
  },
  {
   "cell_type": "code",
   "execution_count": 15,
   "metadata": {},
   "outputs": [],
   "source": [
    "val = cvec.transform(X_val)\n",
    "dense = val.todense()\n",
    "denselist = dense.tolist()\n",
    "\n",
    "X_val = pd.DataFrame(denselist, columns=feature_names)"
   ]
  },
  {
   "cell_type": "markdown",
   "metadata": {},
   "source": [
    "### apprentissage par régression logisitique"
   ]
  },
  {
   "cell_type": "code",
   "execution_count": 16,
   "metadata": {},
   "outputs": [],
   "source": [
    "param = {\n",
    "    'max_iter' : [1000]\n",
    "}\n",
    "\n",
    "\n",
    "model = GridSearchCV(LogisticRegression(), param_grid=param, cv=5)\n",
    "\n",
    "\n",
    "model.fit(X_train, y_train) \n",
    "score_train = model.best_score_\n",
    "score_test = model.score(X_test, y_test)\n",
    "score_val = model.score(X_val, y_val)"
   ]
  },
  {
   "cell_type": "code",
   "execution_count": 17,
   "metadata": {},
   "outputs": [
    {
     "name": "stdout",
     "output_type": "stream",
     "text": [
      "0.8302538107754172------------score train\n",
      "0.8354170554207875------------score test\n",
      "0.8374202216996977------------score val\n"
     ]
    }
   ],
   "source": [
    "print(f'{score_train:-<30}score train')\n",
    "print(f'{score_test:-<30}score test')\n",
    "print(f'{score_val:-<30}score val')\n"
   ]
  },
  {
   "cell_type": "code",
   "execution_count": 18,
   "metadata": {},
   "outputs": [
    {
     "data": {
      "text/plain": [
       "<AxesSubplot:>"
      ]
     },
     "execution_count": 18,
     "metadata": {},
     "output_type": "execute_result"
    },
    {
     "data": {
      "image/png": "[encoded data removed]",
      "text/plain": [
       "<Figure size 432x288 with 2 Axes>"
      ]
     },
     "metadata": {
      "needs_background": "light"
     },
     "output_type": "display_data"
    }
   ],
   "source": [
    "mat = confusion_matrix(y_val, model.predict(X_val) )\n",
    "\n",
    "sb.heatmap(mat, annot=True)\n"
   ]
  }
 ],
 "metadata": {
  "interpreter": {
   "hash": "1215b6d9e98c608af6c98076ac69926165476300228df4abad2e199a1ec40446"
  },
  "kernelspec": {
   "display_name": "Python 3.8.10 ('.env': venv)",
   "language": "python",
   "name": "python3"
  },
  "language_info": {
   "codemirror_mode": {
    "name": "ipython",
    "version": 3
   },
   "file_extension": ".py",
   "mimetype": "text/x-python",
   "name": "python",
   "nbconvert_exporter": "python",
   "pygments_lexer": "ipython3",
   "version": "3.8.10"
  },
  "orig_nbformat": 4
 },
 "nbformat": 4,
 "nbformat_minor": 2
}
