{
 "cells": [
  {
   "cell_type": "markdown",
   "metadata": {},
   "source": [
    "# Entraînement sans data-augmentation"
   ]
  },
  {
   "cell_type": "code",
   "execution_count": 113,
   "metadata": {},
   "outputs": [],
   "source": [
    "from bs4 import BeautifulSoup\n",
    "import requests\n",
    "import re\n",
    "import unidecode\n",
    "import time\n",
    "import os\n",
    "import json\n",
    "import joblib\n",
    "from tqdm import tqdm\n",
    "\n",
    "import matplotlib.pyplot as plt\n",
    "import pandas as pd\n",
    "import numpy as np\n",
    "import seaborn as sb\n",
    "from sklearn.model_selection import train_test_split\n",
    "from sklearn.feature_extraction.text import CountVectorizer\n",
    "from sklearn.linear_model import LogisticRegression\n",
    "from sklearn.model_selection import GridSearchCV\n",
    "from sklearn.metrics import confusion_matrix\n",
    "\n",
    "import nlpaug\n",
    "\n",
    "from wordcloud import WordCloud\n",
    "from nltk.corpus import stopwords\n",
    "import nltk\n",
    "from french_lefff_lemmatizer.french_lefff_lemmatizer import FrenchLefffLemmatizer\n",
    "from nltk.stem import WordNetLemmatizer \n",
    "from nltk.stem.snowball import SnowballStemmer\n",
    "\n",
    "# ---- first times : \n",
    "# nltk.download('wordnet')from sklearn.model_selection import GridSearchCV\n",
    "# nltk.download('punkt')\n",
    "# nltk.download('stopwords')\n",
    "# nltk.download('stopwords')\n",
    "# nltk.download('omw-1.4')"
   ]
  },
  {
   "cell_type": "markdown",
   "metadata": {},
   "source": [
    "### Déclaration des fonctions"
   ]
  },
  {
   "cell_type": "code",
   "execution_count": 114,
   "metadata": {},
   "outputs": [],
   "source": [
    "def replace_par_regex(tex:str, langue='francais') ->str :\n",
    "    \n",
    "    \"\"\"\n",
    "    mets les# liste2 = pd.DataFrame(liste)\n",
    "\n",
    "# liste2.to_csv('dataaug.csv', index=False)it caractères en minuscule\n",
    "    supprime les caractères non alphabétiques\n",
    "    \"\"\"\n",
    "\n",
    "    # mettre le texte en minuscule\n",
    "    pe = tex.lower()\n",
    "\n",
    "\n",
    "    if langue == 'english':\n",
    "        pe = re.sub('[^a-z_]','_',pe)\n",
    "    else:\n",
    "        pe = re.sub('[^a-zàâçéèêëîïôûùüÿñæœ]', '_', pe)\n",
    "    \n",
    "    # supprimer les mots de 1 ou deux lettres\n",
    "    pe = re.sub('_[a-zàâçéèêëîïôûùüÿñæœ]{1,2}_', '_',pe)\n",
    "\n",
    "    pe = re.sub('[_]{2,}','_',pe)\n",
    "    pe = re.sub('_',' ',pe)\n",
    "    \n",
    "    # supprimer le l qui reste parfois\n",
    "    pe = re.sub(' l ',' ', pe)\n",
    "\n",
    "    return pe\n",
    "\n",
    "\n",
    "\n",
    "def nbr_pages(u_r_l) -> int :  \n",
    "    \"\"\"\n",
    "    trouve le nombre de pages à parser en fonction de l'indicatif des pages dans la première page html\n",
    "    renvoie -1 en cas d'erreur    \n",
    "    \"\"\"\n",
    "\n",
    "    soupObject = parse(u_r_l)\n",
    "    \n",
    "    # récupérer dans une liste les éléments de la calsse pagination-item-holer\n",
    "    res = soupObject.find_all(\"div\", class_=\"pagination-item-holder\")\n",
    "\n",
    "    # créer une chaîne de caractère à partir de la liste\n",
    "    st = \"\"\n",
    "    for el in res:\n",
    "        st = st + (str(el))\n",
    "\n",
    "    st = st.replace('>', '<')\n",
    "\n",
    "    tab = st.split('<')\n",
    "\n",
    "    ls = []\n",
    "    for i in tab:\n",
    "\n",
    "        try:\n",
    "            ls.append(int(i))\n",
    "        except:\n",
    "            continue\n",
    "\n",
    "    if len(ls) > 0:\n",
    "        return max(ls)\n",
    "    else:\n",
    "       return 1\n",
    "\n",
    "\n",
    "\n",
    "def afficher_nuage_mots(var:str, nombre_de_mots:int, langage='francais', *args):\n",
    "\n",
    "    \"\"\"\n",
    "    affiche un nuage de mots les plus importants dans un texte\n",
    "    prend en variables une chaîne de caractère, le nombre de mots importants à afficher, la langue, un tuple d'éventuels mots à ajouter au stopwords\n",
    "    \"\"\"\n",
    "\n",
    "\n",
    "    if langage == 'english':\n",
    "        SW = stopwords.words('english')\n",
    "    else:\n",
    "        SW = stopwords.words('french')\n",
    "    \n",
    "\n",
    "    if args:\n",
    "        for el in args:\n",
    "            SW.append(el)\n",
    "\n",
    "    \n",
    "    WC = WordCloud(background_color = 'white', stopwords = SW, max_words = nombre_de_mots).generate(var)\n",
    "    plt.imshow(WC)\n",
    "    plt.axis(\"off\")\n",
    "    plt.show()\n",
    "\n",
    "\n",
    "\n",
    "def parse(u_r_l, html = True):\n",
    "\n",
    "    \"\"\"\n",
    "    récupère le contenu d'une page html\n",
    "    structure la réponse de requests\n",
    "    transforme en objet avec ou sans le html\n",
    "    retourne un objet Beautiful ou une chaîne de caractère    \n",
    "    \"\"\"\n",
    "\n",
    "    # récupérer le contenu d'une page web\n",
    "    page = requests.get(u_r_l)\n",
    "\n",
    "    # structure la page\n",
    "    soup = BeautifulSoup(page.content, 'html.parser')\n",
    "\n",
    "\n",
    "    if html == False:\n",
    "        soup = str(soup.get_text())\n",
    "        \n",
    "    \n",
    "    return soup\n",
    "\n",
    "\n",
    "\n",
    "def find_comment_and_rating(u_r_l):\n",
    "    \n",
    "    \"\"\"\n",
    "    trouver la division de la note, et retourner la note en float\n",
    "    trouver la div du commentaire et retourner le commentaire\n",
    "    \"\"\"\n",
    "\n",
    "    global dico\n",
    "\n",
    "    # div de la note\n",
    "    division_principale = 'hred review-card cf'\n",
    "    division_note = \"stareval-note\"\n",
    "    division_commentaire = \"content-txt review-card-content\"\n",
    "\n",
    "    # récupérer la page internet\n",
    "    soup = parse(u_r_l)\n",
    "    foo = soup.find_all(\"div\", class_= division_principale)\n",
    "\n",
    "    title = soup.find('div', class_='titlebar titlebar-page')\n",
    "    title = title.get_text()\n",
    "\n",
    "    # récupérer la div des notes \n",
    "\n",
    "    dico = dict()\n",
    "    \n",
    "\n",
    "    for i in range(len(foo)):\n",
    "\n",
    "        # parsage du parsage\n",
    "\n",
    "        # --- la note\n",
    "        ts = str(foo[i])\n",
    "        fff = BeautifulSoup(ts, 'html.parser')\n",
    "        ggg = fff.find('span', class_= division_note)\n",
    "\n",
    "        # récupérer la note sans le html\n",
    "        ggg  = ggg.get_text()\n",
    "        ggg  = float(ggg.replace(',','.'))\n",
    "\n",
    "\n",
    "        # --- le commentaire\n",
    "        hhh = fff.find('div', class_= division_commentaire)\n",
    "        hhh = hhh.get_text()\n",
    "        hhh = replace_par_regex(hhh)\n",
    "\n",
    "        dico[hhh] = ggg\n",
    "       \n",
    "    return dico, title\n",
    "\n",
    "\n",
    "\n",
    "def recuperer_donnees_to_df(u_r_l):\n",
    "    \n",
    "    dci, title = find_comment_and_rating(u_r_l)\n",
    "    nombre_de_pages_a_parser = nbr_pages(u_r_l)\n",
    "\n",
    "    suffixe_url = '?page='\n",
    "\n",
    "    url_complete = u_r_l + suffixe_url\n",
    "\n",
    "    for i in range(2, nombre_de_pages_a_parser + 1):\n",
    "        url = url_complete + str(i)\n",
    "        \n",
    "        try:\n",
    "            data, _ = find_comment_and_rating(url)\n",
    "            dci.update(data)\n",
    "        except:\n",
    "            continue\n",
    "\n",
    "        time.sleep(0.2)\n",
    "\n",
    "\n",
    "    # enregistrer le dictionnaire en csv ; le nom du csv est le timestamp\n",
    "\n",
    "    ts = time.time()\n",
    "    ts = str(int(ts))\n",
    "    ts = ts + '.csv'\n",
    "    title = title + '.csv'\n",
    "\n",
    "    df = pd.DataFrame.from_dict(dci, orient='index')\n",
    "    try:\n",
    "        df.to_csv('./datas/'+title)\n",
    "    except:\n",
    "        df.to_csv('./datas/'+ts)\n",
    "\n",
    "\n",
    "def clean_csv():\n",
    "\n",
    "    \"\"\"\n",
    "    supprimer les fichiers csv du répertoire\n",
    "    \"\"\"\n",
    "\n",
    "    for el in os.listdir():\n",
    "        if 'csv' in el:\n",
    "            os.remove(el)\n",
    "  \n",
    "\n",
    "\n",
    "def recupere_csv():\n",
    "    \n",
    "    \"\"\"\n",
    "    récupérer les fichiers csv créés\n",
    "    \"\"\"\n",
    "    \n",
    "    liste = []\n",
    "    for fichier in (os.listdir('./data')):\n",
    "        if 'csv' in fichier:\n",
    "\n",
    "            adresse = os.path.join('data', fichier)\n",
    "            \n",
    "            liste.append(pd.read_csv(adresse))\n",
    "\n",
    "    return liste, len(liste)\n",
    "\n",
    "\n",
    "def lemm_stem(dataset, type='stem'):\n",
    "    \n",
    "    \"\"\"\n",
    "    lemmization ou stemming d'un dataset\n",
    "    pour la lemmization, nécessité d'enlever les accents \n",
    "    retourne le dataset traité\n",
    "    \"\"\"\n",
    "\n",
    "\n",
    "\n",
    "    french_stopwords = nltk.corpus.stopwords.words('french')\n",
    "    lemmatizer = FrenchLefffLemmatizer()\n",
    "    wnl = WordNetLemmatizer() \n",
    "    stemmer = SnowballStemmer(language='french')\n",
    "\n",
    "\n",
    "\n",
    "    if type =='lemm':\n",
    "\n",
    "        for i in range(dataset.shape[0]):\n",
    "\n",
    "            st = \"\"    \n",
    "            var = unidecode.unidecode(dataset.iloc[i])\n",
    "            tokenize_sentence = nltk.tokenize.word_tokenize(var)   \n",
    "            words_w_stopwords = [i for i in tokenize_sentence if i not in french_stopwords]    \n",
    "            words_lemmatize = [wnl.lemmatize(w) for w in words_w_stopwords] \n",
    "            for j in range(len(words_lemmatize)):\n",
    "                st = st + ' ' + words_lemmatize[j] + ' '\n",
    "            dataset.iloc[i] = st\n",
    "        \n",
    "        return dataset\n",
    "\n",
    "\n",
    "    if type =='stem':\n",
    "\n",
    "        for i in range(dataset.shape[0]):\n",
    "\n",
    "            st = \"\"\n",
    "            tokenize_sentence = nltk.tokenize.word_tokenize(dataset.iloc[i])\n",
    "            words_w_stopwords = [i for i in tokenize_sentence if i not in french_stopwords]\n",
    "            words_stemming = [stemmer.stem(w) for w in words_w_stopwords]\n",
    "            for j in range(len(words_stemming)):\n",
    "                st = st + ' ' + words_stemming[j] + ' '\n",
    "            dataset.iloc[i] = st\n",
    "\n",
    "        return dataset\n",
    "\n",
    "\n",
    "def sac_de_mots(dataframe, sac):\n",
    "    \n",
    "    \"\"\"\n",
    "    ne garder que les mots du sacs de mots\n",
    "    \"\"\"\n",
    "\n",
    "    for i in range(dataframe.shape[0]):\n",
    "\n",
    "\n",
    "        liste = np.array(dataframe.iloc[i].split(' '))\n",
    "        bag = np.array(sac)\n",
    "\n",
    "        res = np.intersect1d(bag, liste) \n",
    "    \n",
    "        stri = \"\"\n",
    "\n",
    "        for occ in list(res):\n",
    "\n",
    "            stri = stri + ' ' + occ\n",
    "\n",
    "        dataframe.iloc[i] = stri\n",
    "\n",
    "\n",
    "\n",
    "def intersection(datafram, sac):\n",
    "\n",
    "    \n",
    "    dataframe = datafram.copy()\n",
    "    # for i in range(dataframe.shape[0]):\n",
    "    for i in range(10):\n",
    "\n",
    "        phra = np.array(dataframe.iloc[i].split())\n",
    "\n",
    "        phra = np.intersect1d(phra, sac)\n",
    "    \n",
    "        st = \"\"\n",
    "        for j in range(phra.shape[0]):\n",
    "            st = st + \" \" + phra[j]\n",
    "\n",
    "        dataframe.iloc[i] = st \n",
    "\n",
    "    return dataframe"
   ]
  },
  {
   "cell_type": "code",
   "execution_count": 33,
   "metadata": {},
   "outputs": [],
   "source": [
    "# URLS\n",
    "# url_inception = 'https://www.allocine.fr/film/fichefilm-143692/critiques/spectateurs/'\n",
    "# url_sonic2 = \"https://www.allocine.fr/film/fichefilm-281203/critiques/spectateurs/\"\n",
    "\n",
    "# liste_url = [url_inception, url_sonic2]"
   ]
  },
  {
   "cell_type": "markdown",
   "metadata": {},
   "source": [
    "## récupérer le nombre de pages et les commentaires avec la fonction find_comment_and_rating"
   ]
  },
  {
   "cell_type": "markdown",
   "metadata": {},
   "source": [
    "### recupere_donnees_to_df scrape les pages et enregistre les infos en csv"
   ]
  },
  {
   "cell_type": "code",
   "execution_count": 34,
   "metadata": {},
   "outputs": [],
   "source": [
    "# for rl in liste_url: \n",
    "\n",
    "#     recuperer_donnees_to_df(rl)"
   ]
  },
  {
   "cell_type": "code",
   "execution_count": 35,
   "metadata": {},
   "outputs": [],
   "source": [
    "# pour télécharger 1000 films supplémentaires\n",
    "\n",
    "# for i in range(1000):\n",
    "\n",
    "#     j = 20000 + i\n",
    "#     j = str(j)\n",
    "#     urll = 'https://www.allocine.fr/film/fichefilm-'+j+'/critiques/spectateurs/'\n",
    "\n",
    "#     try:\n",
    "#         recuperer_donnees_to_df(urll)\n",
    "#     except:\n",
    "#         continue"
   ]
  },
  {
   "cell_type": "markdown",
   "metadata": {},
   "source": [
    "## Récupérer tous les csv"
   ]
  },
  {
   "cell_type": "code",
   "execution_count": 115,
   "metadata": {},
   "outputs": [],
   "source": [
    "liste, lenListe = recupere_csv()## récupérer le nombre de pages et les commentaires avec la fonction find_comment_and_rating\n",
    "\n",
    "df = liste[0]\n",
    "\n",
    "for i in range (1, lenListe):\n",
    "\n",
    "    df = pd.concat((df, liste[i]), ignore_index=True)"
   ]
  },
  {
   "cell_type": "code",
   "execution_count": 118,
   "metadata": {},
   "outputs": [],
   "source": [
    "# enregistrement du csv pour utilisation dans le fichier train_aug.ipynb\n",
    "# df.to_csv('data_total.csv', index=False)"
   ]
  },
  {
   "cell_type": "markdown",
   "metadata": {},
   "source": [
    "Renommer les colonnes"
   ]
  },
  {
   "cell_type": "code",
   "execution_count": 37,
   "metadata": {},
   "outputs": [],
   "source": [
    "df = df.rename(columns={'Unnamed: 0':'commentaire', '0':'note'})"
   ]
  },
  {
   "cell_type": "code",
   "execution_count": 38,
   "metadata": {},
   "outputs": [
    {
     "data": {
      "text/html": [
       "<div>\n",
       "<style scoped>\n",
       "    .dataframe tbody tr th:only-of-type {\n",
       "        vertical-align: middle;\n",
       "    }\n",
       "\n",
       "    .dataframe tbody tr th {\n",
       "        vertical-align: top;\n",
       "    }\n",
       "\n",
       "    .dataframe thead th {\n",
       "        text-align: right;\n",
       "    }\n",
       "</style>\n",
       "<table border=\"1\" class=\"dataframe\">\n",
       "  <thead>\n",
       "    <tr style=\"text-align: right;\">\n",
       "      <th></th>\n",
       "      <th>commentaire</th>\n",
       "      <th>note</th>\n",
       "    </tr>\n",
       "  </thead>\n",
       "  <tbody>\n",
       "    <tr>\n",
       "      <th>0</th>\n",
       "      <td>film très lent plutôt hermétique est une oeuv...</td>\n",
       "      <td>2.0</td>\n",
       "    </tr>\n",
       "    <tr>\n",
       "      <th>1</th>\n",
       "      <td>faut voir genre film pour croire ils existent...</td>\n",
       "      <td>3.0</td>\n",
       "    </tr>\n",
       "    <tr>\n",
       "      <th>2</th>\n",
       "      <td>des acteurs français jouant les américains ba...</td>\n",
       "      <td>0.5</td>\n",
       "    </tr>\n",
       "    <tr>\n",
       "      <th>3</th>\n",
       "      <td>livre boris vian tourné film dans les années ...</td>\n",
       "      <td>5.0</td>\n",
       "    </tr>\n",
       "    <tr>\n",
       "      <th>4</th>\n",
       "      <td>irai cracher est sans doute œuvre française p...</td>\n",
       "      <td>1.0</td>\n",
       "    </tr>\n",
       "  </tbody>\n",
       "</table>\n",
       "</div>"
      ],
      "text/plain": [
       "                                         commentaire  note\n",
       "0   film très lent plutôt hermétique est une oeuv...   2.0\n",
       "1   faut voir genre film pour croire ils existent...   3.0\n",
       "2   des acteurs français jouant les américains ba...   0.5\n",
       "3   livre boris vian tourné film dans les années ...   5.0\n",
       "4   irai cracher est sans doute œuvre française p...   1.0"
      ]
     },
     "execution_count": 38,
     "metadata": {},
     "output_type": "execute_result"
    }
   ],
   "source": [
    "df.head()"
   ]
  },
  {
   "cell_type": "code",
   "execution_count": 39,
   "metadata": {},
   "outputs": [
    {
     "name": "stdout",
     "output_type": "stream",
     "text": [
      "49025--------------- nombre de lignes\n",
      "2------------------- nombre de colonnes\n"
     ]
    }
   ],
   "source": [
    "print(f'{df.shape[0]:-<20} nombre de lignes')\n",
    "print(f'{df.shape[1]:-<20} nombre de colonnes')"
   ]
  },
  {
   "cell_type": "markdown",
   "metadata": {},
   "source": [
    "voir la répartition des notes"
   ]
  },
  {
   "cell_type": "code",
   "execution_count": 40,
   "metadata": {},
   "outputs": [
    {
     "data": {
      "text/plain": [
       "<AxesSubplot:ylabel='note'>"
      ]
     },
     "execution_count": 40,
     "metadata": {},
     "output_type": "execute_result"
    },
    {
     "data": {
      "image/png": "[encoded data removed]",
      "text/plain": [
       "<Figure size 432x288 with 1 Axes>"
      ]
     },
     "metadata": {},
     "output_type": "display_data"
    }
   ],
   "source": [
    "df['note'].value_counts().plot.pie()"
   ]
  },
  {
   "cell_type": "markdown",
   "metadata": {},
   "source": [
    "changer les valeurs pour effectuer une classification binaire"
   ]
  },
  {
   "cell_type": "code",
   "execution_count": 41,
   "metadata": {},
   "outputs": [],
   "source": [
    "for i in range(df.shape[0]):\n",
    "\n",
    "    if df.loc[i, 'note'] > 2.5:\n",
    "        df.loc[i, 'note'] = 1\n",
    "    else:\n",
    "        df.loc[i, 'note'] = 0\n"
   ]
  },
  {
   "cell_type": "markdown",
   "metadata": {},
   "source": [
    "voir la répartition"
   ]
  },
  {
   "cell_type": "code",
   "execution_count": 42,
   "metadata": {},
   "outputs": [
    {
     "data": {
      "text/plain": [
       "<AxesSubplot:ylabel='note'>"
      ]
     },
     "execution_count": 42,
     "metadata": {},
     "output_type": "execute_result"
    },
    {
     "data": {
      "image/png": "[encoded data removed]",
      "text/plain": [
       "<Figure size 432x288 with 1 Axes>"
      ]
     },
     "metadata": {},
     "output_type": "display_data"
    }
   ],
   "source": [
    "df['note'].value_counts().plot.pie()"
   ]
  },
  {
   "cell_type": "markdown",
   "metadata": {},
   "source": [
    "créer deux dataframes"
   ]
  },
  {
   "cell_type": "code",
   "execution_count": 43,
   "metadata": {},
   "outputs": [],
   "source": [
    "df_good = df[df['note'] == 1]\n",
    "df_bad = df[df['note'] == 0]\n",
    "\n",
    "# créer un aléatoire\n",
    "df_good =  df_good.sample(frac=1).reset_index(drop=True)\n",
    "df_bad = df_bad.sample(frac=1).reset_index(drop=True)"
   ]
  },
  {
   "cell_type": "markdown",
   "metadata": {},
   "source": [
    "### <b>sans data augmentation, en équilibrant les targets</b>"
   ]
  },
  {
   "cell_type": "markdown",
   "metadata": {},
   "source": [
    "équilibrer et concaténer les dataframes"
   ]
  },
  {
   "cell_type": "code",
   "execution_count": 44,
   "metadata": {},
   "outputs": [],
   "source": [
    "taille_pour_equilibrer_les_notes = df_bad.shape[0]\n",
    "\n",
    "data = df_good.iloc[:taille_pour_equilibrer_les_notes]\n",
    "\n",
    "data = pd.concat((data, df_bad), ignore_index=True)"
   ]
  },
  {
   "cell_type": "code",
   "execution_count": 45,
   "metadata": {},
   "outputs": [],
   "source": [
    "# sauvegarde du fichier csv\n",
    "data.to_csv('data.csv', index=False)"
   ]
  },
  {
   "cell_type": "code",
   "execution_count": 46,
   "metadata": {},
   "outputs": [
    {
     "data": {
      "text/plain": [
       "<AxesSubplot:ylabel='note'>"
      ]
     },
     "execution_count": 46,
     "metadata": {},
     "output_type": "execute_result"
    },
    {
     "data": {
      "image/png": "[encoded data removed]",
      "text/plain": [
       "<Figure size 432x288 with 1 Axes>"
      ]
     },
     "metadata": {},
     "output_type": "display_data"
    }
   ],
   "source": [
    "data['note'].value_counts().plot.pie()"
   ]
  },
  {
   "cell_type": "markdown",
   "metadata": {},
   "source": [
    "## Créer un jeu de train, un jeu de test, un jeu de validation"
   ]
  },
  {
   "cell_type": "code",
   "execution_count": 47,
   "metadata": {},
   "outputs": [],
   "source": [
    "variable = data['commentaire'] \n",
    "target = data['note']\n",
    "\n",
    "X_train_test, X_val, y_train_test, y_val = train_test_split(variable, target, test_size = 0.1, stratify = target)\n",
    "X_train, X_test, y_train, y_test = train_test_split(X_train_test, y_train_test, test_size = 0.2, stratify = y_train_test)"
   ]
  },
  {
   "cell_type": "code",
   "execution_count": 48,
   "metadata": {},
   "outputs": [
    {
     "name": "stdout",
     "output_type": "stream",
     "text": [
      "29768-----nombre de variables totales\n",
      "21432-----nombre de variables du jeu d'entraînement\n",
      "5359------nombre de variables du jeu de test\n",
      "2977------nombre de variables du jeu de validation\n"
     ]
    }
   ],
   "source": [
    "print(f'{variable.shape[0]:-<10}nombre de variables totales')\n",
    "print(f'{X_train.shape[0]:-<10}nombre de variables du jeu d\\'entraînement')\n",
    "print(f'{X_test.shape[0]:-<10}nombre de variables du jeu de test')\n",
    "print(f'{X_val.shape[0]:-<10}nombre de variables du jeu de validation')"
   ]
  },
  {
   "cell_type": "markdown",
   "metadata": {},
   "source": [
    "### Data augmentation   \n",
    "\n",
    "##### pour utilisation dans train.ipynb"
   ]
  },
  {
   "cell_type": "code",
   "execution_count": 49,
   "metadata": {},
   "outputs": [],
   "source": [
    "# recréer un dataframe à partir de X_train et y_train pour faire de la data augmentation sur les commentaires négatifs, minoritaires\n",
    "da1 = X_train.copy()\n",
    "da1 = X_train.reset_index(drop=True)\n",
    "da2 = y_train.copy()\n",
    "da2 = y_train.reset_index(drop=True)\n",
    "da1 = pd.DataFrame(da1)\n",
    "da1['note'] = da2\n",
    "\n",
    "dbad = da1[da1['note'] == 0]"
   ]
  },
  {
   "cell_type": "code",
   "execution_count": 20,
   "metadata": {},
   "outputs": [
    {
     "data": {
      "text/plain": [
       "{'german': 'de'}"
      ]
     },
     "execution_count": 20,
     "metadata": {},
     "output_type": "execute_result"
    }
   ],
   "source": [
    "# ref https://pypi.org/project/BackTranslation/\n",
    "from BackTranslation import BackTranslation\n",
    "trans = BackTranslation(url=[\n",
    "      'translate.google.com',\n",
    "      'translate.google.co.kr',\n",
    "    ], proxies={'http': '127.0.0.1:1234', 'http://host.name': '127.0.0.1:4012'})\n",
    "\n",
    "# trouver l'indicatif de l'allemand (langue suffisamment différente du français)\n",
    "trans2 = BackTranslation()\n",
    "trans.searchLanguage('German')"
   ]
  },
  {
   "cell_type": "code",
   "execution_count": 21,
   "metadata": {},
   "outputs": [
    {
     "name": "stdout",
     "output_type": "stream",
     "text": [
      "Déception que les principaux acteurs ne sont toujours pas convaincants, seul Rogue est une question de l'histoire.Contrairement à Bon Point Book pour les scènes La Penine, la dame grise du bouclier d'entraînement autour du château, qui a été trouvé avec succès\n"
     ]
    }
   ],
   "source": [
    "# test commentaire avec backTranslation\n",
    "result = trans.translate(dbad.iloc[1,0], src='fr', tmp = 'de')\n",
    "print(result.result_text)"
   ]
  },
  {
   "cell_type": "code",
   "execution_count": 22,
   "metadata": {},
   "outputs": [
    {
     "data": {
      "text/plain": [
       "' déception les acteurs principaux sont toujours aussi peu convaincants seul rogue relève niveau histoire est niaise contrairement livre bon point pour les scènes la pensine la dame grise de formation destruction bouclier autour chateau que ai trouvé réussies '"
      ]
     },
     "execution_count": 22,
     "metadata": {},
     "output_type": "execute_result"
    }
   ],
   "source": [
    "# texte initial\n",
    "dbad.iloc[1,0]"
   ]
  },
  {
   "cell_type": "code",
   "execution_count": 23,
   "metadata": {},
   "outputs": [],
   "source": [
    "# lancer la data-augmentation (environ 8h)\n",
    "\n",
    "# liste = []\n",
    "# for i in tqdm(range(dbad.shape[0])):\n",
    "#     try:\n",
    "#         result = trans.translate(dbad.iloc[i,0], src='fr', tmp = 'de')\n",
    "#         liste.append(result)\n",
    "#     except:\n",
    "#         continue"
   ]
  },
  {
   "cell_type": "code",
   "execution_count": 24,
   "metadata": {},
   "outputs": [],
   "source": [
    "# liste2 = np.array(liste)\n",
    "# liste2 = pd.DataFrame(liste)\n",
    "\n",
    "# liste2.to_csv('dataaug.csv', index=False)"
   ]
  },
  {
   "cell_type": "code",
   "execution_count": 100,
   "metadata": {},
   "outputs": [],
   "source": [
    "dfbad = pd.read_csv('dataaug.csv')"
   ]
  },
  {
   "cell_type": "code",
   "execution_count": 101,
   "metadata": {},
   "outputs": [],
   "source": [
    "liste = []\n",
    "for i in range(dfbad.shape[0]):\n",
    "    str = dfbad.iloc[i, 0].replace('Trabslated(src=fr, tmp=de, result_text=', '')\n",
    "    str = str.replace(')', '')\n",
    "    dfbad.iloc[i, 0] = str\n",
    "\n",
    "\n",
    "dfbad['note'] = 0\n",
    "dfbad = dfbad.rename(columns={dfbad.columns[0]:'commentaire'})"
   ]
  },
  {
   "cell_type": "code",
   "execution_count": 102,
   "metadata": {},
   "outputs": [],
   "source": [
    "dfbad.to_csv('dataaug2.csv', index=False)"
   ]
  },
  {
   "cell_type": "code",
   "execution_count": 103,
   "metadata": {},
   "outputs": [],
   "source": [
    "dfbad = pd.read_csv('dataaug2.csv')"
   ]
  },
  {
   "cell_type": "code",
   "execution_count": 105,
   "metadata": {},
   "outputs": [
    {
     "data": {
      "text/html": [
       "<div>\n",
       "<style scoped>\n",
       "    .dataframe tbody tr th:only-of-type {\n",
       "        vertical-align: middle;\n",
       "    }\n",
       "\n",
       "    .dataframe tbody tr th {\n",
       "        vertical-align: top;\n",
       "    }\n",
       "\n",
       "    .dataframe thead th {\n",
       "        text-align: right;\n",
       "    }\n",
       "</style>\n",
       "<table border=\"1\" class=\"dataframe\">\n",
       "  <thead>\n",
       "    <tr style=\"text-align: right;\">\n",
       "      <th></th>\n",
       "      <th>commentaire</th>\n",
       "      <th>note</th>\n",
       "    </tr>\n",
       "  </thead>\n",
       "  <tbody>\n",
       "    <tr>\n",
       "      <th>0</th>\n",
       "      <td>histoire assez linéaire sans climax particuli...</td>\n",
       "      <td>1.0</td>\n",
       "    </tr>\n",
       "    <tr>\n",
       "      <th>1</th>\n",
       "      <td>excellent au cinéma sa sortie étais subjuguée...</td>\n",
       "      <td>1.0</td>\n",
       "    </tr>\n",
       "    <tr>\n",
       "      <th>2</th>\n",
       "      <td>plus dix ans après memento nous sort film mag...</td>\n",
       "      <td>1.0</td>\n",
       "    </tr>\n",
       "    <tr>\n",
       "      <th>3</th>\n",
       "      <td>énième coup génie infatigable nolan honnêteme...</td>\n",
       "      <td>1.0</td>\n",
       "    </tr>\n",
       "    <tr>\n",
       "      <th>4</th>\n",
       "      <td>navet film extrémement décevant scenario bacl...</td>\n",
       "      <td>0.0</td>\n",
       "    </tr>\n",
       "  </tbody>\n",
       "</table>\n",
       "</div>"
      ],
      "text/plain": [
       "                                         commentaire  note\n",
       "0   histoire assez linéaire sans climax particuli...   1.0\n",
       "1   excellent au cinéma sa sortie étais subjuguée...   1.0\n",
       "2   plus dix ans après memento nous sort film mag...   1.0\n",
       "3   énième coup génie infatigable nolan honnêteme...   1.0\n",
       "4   navet film extrémement décevant scenario bacl...   0.0"
      ]
     },
     "execution_count": 105,
     "metadata": {},
     "output_type": "execute_result"
    }
   ],
   "source": [
    "dfbad.head()\n",
    "da1.head()"
   ]
  },
  {
   "cell_type": "code",
   "execution_count": 107,
   "metadata": {},
   "outputs": [],
   "source": [
    "df = pd.concat((dfbad, da1))"
   ]
  },
  {
   "cell_type": "code",
   "execution_count": 108,
   "metadata": {},
   "outputs": [],
   "source": [
    "X_train = df['commentaire'].copy()\n",
    "y_train = df['note'].copy()"
   ]
  },
  {
   "cell_type": "markdown",
   "metadata": {},
   "source": [
    "## voir la répartion des mots selon les commentaires positifs ou négatifs"
   ]
  },
  {
   "cell_type": "code",
   "execution_count": 26,
   "metadata": {},
   "outputs": [],
   "source": [
    "# créer deux dataframes séparés selon la note\n",
    "\n",
    "commentaires_good = \"\"\n",
    "commentaires_bad = \"\"\n",
    "\n",
    "for comm in range(X_train.shape[0]):\n",
    "\n",
    "\n",
    "    if y_train.iloc[comm] == 1:\n",
    "\n",
    "        commentaires_good = commentaires_good + str(X_train.iloc[comm])\n",
    "    \n",
    "    else:\n",
    "        commentaires_bad = commentaires_bad + str(X_train.iloc[comm])"
   ]
  },
  {
   "cell_type": "code",
   "execution_count": 27,
   "metadata": {},
   "outputs": [],
   "source": [
    "nombre_mots = 100\n",
    "\n",
    "WC_good = WordCloud(background_color = 'white', stopwords = stopwords.words('french'), max_words = nombre_mots).generate(commentaires_good)\n",
    "WC_bad = WordCloud(background_color = 'white', stopwords = stopwords.words('french'), max_words = nombre_mots).generate(commentaires_bad)"
   ]
  },
  {
   "cell_type": "code",
   "execution_count": 28,
   "metadata": {},
   "outputs": [],
   "source": [
    "# récupérer les dictionnaires de mots\n",
    "dico_good = WC_good.words_\n",
    "dico_bad = WC_bad.words_"
   ]
  },
  {
   "cell_type": "code",
   "execution_count": 29,
   "metadata": {},
   "outputs": [
    {
     "data": {
      "text/plain": [
       "72"
      ]
     },
     "execution_count": 29,
     "metadata": {},
     "output_type": "execute_result"
    }
   ],
   "source": [
    "# les mettre en listes\n",
    "li_good = np.array(list(dico_good.keys()))\n",
    "li_bad = np.array(list(dico_bad.keys()))\n",
    "\n",
    "# comparer les deux listes\n",
    "blacklist_mots = np.intersect1d(li_good, li_bad)\n",
    "blacklist_mots = list(blacklist_mots)\n",
    "len(blacklist_mots)"
   ]
  },
  {
   "cell_type": "markdown",
   "metadata": {},
   "source": [
    "> sur 100 mots importants, entre 65 et 75 mots sont communs (selon l'alétaoire de la séparation du jeu de données) entre les bons commentaires et les mauvais commentaires"
   ]
  },
  {
   "cell_type": "markdown",
   "metadata": {},
   "source": [
    "## Visualisation d'un commentaire avec deux traitements différents"
   ]
  },
  {
   "cell_type": "code",
   "execution_count": 30,
   "metadata": {},
   "outputs": [
    {
     "name": "stdout",
     "output_type": "stream",
     "text": [
      "==== phrase du df ====\n",
      " m avait beaucoup parlé ce film comme étant film génial extraordinaire mythique est peut être cause cela m attendant un chef oeuvre cinéma que ai été déçu par film histoire est touchante les personnages sont accrochants très bien joué cepeda je trouve il a énormément longueurs qui casse ambiance film sa dynamique plus ne suis pas fan spoiler pouvoir guérison jhon coffey interprété par michael clarke duncan cela rend histoire non réaliste peu crédible est vraiment dommage \n",
      "\n",
      "==== lemmatization ====\n",
      " beaucoup  parle  film  comme  etant  film  genial  extraordinaire  mythique  peut  etre  cause  cela  attendant  chef  oeuvre  cinema  ete  decu  film  histoire  touchante  personnages  accrochants  tres  bien  joue  cepeda  trouve  a  enormement  longueur  casse  ambiance  film  dynamique  plus  fan  spoiler  pouvoir  guerison  jhon  coffey  interprete  michael  clarke  duncan  cela  rend  histoire  non  realiste  peu  credible  vraiment  dommage \n",
      "\n",
      "==== stemming ====\n",
      " beaucoup  parl  film  comm  etant  film  genial  extraordinair  mythiqu  peut  etre  caus  cel  attend  chef  oeuvr  cinem  ete  decu  film  histoir  touch  personnag  accroch  tre  bien  jou  ceped  trouv  a  enorm  longueur  cass  ambianc  film  dynam  plus  fan  spoil  pouvoir  guerison  jhon  coffey  interpret  michael  clark  duncan  cel  rend  histoir  non  realist  peu  credibl  vrai  dommag \n"
     ]
    }
   ],
   "source": [
    "print('==== phrase du df ====')\n",
    "print(X_train.iloc[9] + '\\n')\n",
    "print('==== lemmatization ====')\n",
    "print(lemm_stem(X_train, type = 'lemm').iloc[9] + '\\n')\n",
    "print('==== stemming ====')\n",
    "print(lemm_stem(X_train).iloc[9])"
   ]
  },
  {
   "cell_type": "markdown",
   "metadata": {},
   "source": [
    "## Visualisation et récupération des nuages de mots"
   ]
  },
  {
   "cell_type": "code",
   "execution_count": 119,
   "metadata": {},
   "outputs": [],
   "source": [
    "# créer deux datasets : avec stemming, avec lemmization\n",
    "X_lemmization = lemm_stem(X_train, type='lemm')\n",
    "X_stemming = lemm_stem(X_train)"
   ]
  },
  {
   "cell_type": "code",
   "execution_count": null,
   "metadata": {},
   "outputs": [],
   "source": [
    "# appliquer le même traitement sur les données de test et de validation\n",
    "X_train_lemm = X_lemmization.copy()\n",
    "X_train_stem = X_stemming.copy()\n",
    "\n",
    "\n",
    "X_test_lemm = lemm_stem(X_test, type='lemm')\n",
    "X_test_stem = lemm_stem(X_test)\n",
    "\n",
    "X_val_lemm = lemm_stem(X_val, type='lemm')\n",
    "X_val_stem = lemm_stem(X_val)"
   ]
  },
  {
   "cell_type": "code",
   "execution_count": null,
   "metadata": {},
   "outputs": [
    {
     "data": {
      "image/png": "[encoded data removed]",
      "text/plain": [
       "<Figure size 432x288 with 1 Axes>"
      ]
     },
     "metadata": {
      "needs_background": "light"
     },
     "output_type": "display_data"
    }
   ],
   "source": [
    "# visualisation du sac de mots selon le stemming\n",
    "\n",
    "sta = \"\"\n",
    "\n",
    "for i in range(X_stemming.shape[0]):\n",
    "\n",
    "    sta = sta + \" \" + X_stemming.iloc[i] + \" \"\n",
    "\n",
    "\n",
    "afficher_nuage_mots(sta, nombre_de_mots=40)"
   ]
  },
  {
   "cell_type": "code",
   "execution_count": null,
   "metadata": {},
   "outputs": [
    {
     "data": {
      "image/png": "[encoded data removed]",
      "text/plain": [
       "<Figure size 432x288 with 1 Axes>"
      ]
     },
     "metadata": {
      "needs_background": "light"
     },
     "output_type": "display_data"
    }
   ],
   "source": [
    "# visualisation du sac de mots selon la lemmatization\n",
    "\n",
    "stb = \"\"\n",
    "\n",
    "for i in range(X_lemmization.shape[0]):\n",
    "\n",
    "    stb = stb + \" \" + X_lemmization.iloc[i] + \" \"\n",
    "\n",
    "\n",
    "afficher_nuage_mots(stb, nombre_de_mots=40)"
   ]
  },
  {
   "cell_type": "code",
   "execution_count": 120,
   "metadata": {},
   "outputs": [],
   "source": [
    "# récupérer les mots importants par sacs de mots\n",
    "\n",
    "nombre_mots2 = 500\n",
    "\n",
    "sac_de_mots_lemm = WordCloud(background_color = 'white', stopwords = stopwords.words('french'), max_words = nombre_mots2).generate(stb).words_\n",
    "sac_de_mots_stem = WordCloud(background_color = 'white', stopwords = stopwords.words('french'), max_words = nombre_mots2).generate(sta).words_\n",
    "\n",
    "\n",
    "# exporter les mots dans un fichier json\n",
    "with open('wordsBag.json', 'w', encoding ='utf8') as json_file:\n",
    "    json.dump(sac_de_mots_stem, json_file)\n",
    "\n",
    "\n",
    "# transformer les mots (clé du dictionnaire) en listes\n",
    "sac_de_mots_lemm = list(sac_de_mots_lemm.keys())\n",
    "sac_de_mots_stem =  list(sac_de_mots_stem.keys())"
   ]
  },
  {
   "cell_type": "code",
   "execution_count": null,
   "metadata": {},
   "outputs": [],
   "source": [
    "# ne garder que les mots sélectionnés dans les dataframes\n",
    "\n",
    "X_train_stem = intersection(X_train_stem, sac_de_mots_stem)\n",
    "X_test_stem = intersection(X_test_stem, sac_de_mots_stem)\n",
    "X_val_stem = intersection(X_val_stem, sac_de_mots_stem)"
   ]
  },
  {
   "cell_type": "markdown",
   "metadata": {},
   "source": [
    "# Apprentissage"
   ]
  },
  {
   "cell_type": "markdown",
   "metadata": {},
   "source": [
    "### transformer les mots en matrices"
   ]
  },
  {
   "cell_type": "code",
   "execution_count": null,
   "metadata": {},
   "outputs": [],
   "source": [
    "cvec = CountVectorizer()"
   ]
  },
  {
   "cell_type": "code",
   "execution_count": null,
   "metadata": {},
   "outputs": [
    {
     "data": {
      "text/plain": [
       "CountVectorizer()"
      ]
     },
     "execution_count": 70,
     "metadata": {},
     "output_type": "execute_result"
    }
   ],
   "source": [
    "# apprentissage sur les données d'entraînement\n",
    "\n",
    "cvec.fit(sac_de_mots_stem)"
   ]
  },
  {
   "cell_type": "code",
   "execution_count": null,
   "metadata": {},
   "outputs": [],
   "source": [
    "# appliquer la transformation sur les différents jeux de données\n",
    "\n",
    "X_train = pd.DataFrame(cvec.transform(X_train_stem).todense().tolist())\n",
    "X_test = pd.DataFrame(cvec.transform(X_test_stem).todense().tolist())\n",
    "X_val = pd.DataFrame(cvec.transform(X_val_stem).todense().tolist())"
   ]
  },
  {
   "cell_type": "markdown",
   "metadata": {},
   "source": [
    "### apprentissage par régression logisitique"
   ]
  },
  {
   "cell_type": "code",
   "execution_count": 72,
   "metadata": {},
   "outputs": [],
   "source": [
    "param = {\n",
    "    'max_iter' : [1000, 10000], \n",
    "    'C' : [0.1, 0.4, 0.7],\n",
    "    'penalty': ['l1', 'l2', 'elasticnet', 'none'],\n",
    "    'warm_start' : [True, False]\n",
    "}\n",
    "\n",
    "\n",
    "model = GridSearchCV(LogisticRegression(), param_grid=param, cv=5)\n",
    "\n",
    "\n",
    "model.fit(X_train, y_train) \n",
    "score_train = model.best_score_\n",
    "score_test = model.score(X_test, y_test)\n",
    "score_val = model.score(X_val, y_val)"
   ]
  },
  {
   "cell_type": "code",
   "execution_count": 73,
   "metadata": {},
   "outputs": [
    {
     "name": "stdout",
     "output_type": "stream",
     "text": [
      "0.8275942515864129------------ score sur les données d'entraînement\n",
      "0.8259003545437582------------ score sur les données de test\n",
      "0.8259003545437582------------ score sur les données de validation\n"
     ]
    }
   ],
   "source": [
    "print(f'{score_train:-<30} score sur les données d\\'entraînement')\n",
    "print(f'{score_test:-<30} score sur les données de test')\n",
    "print(f'{score_test:-<30} score sur les données de validation')"
   ]
  },
  {
   "cell_type": "code",
   "execution_count": 74,
   "metadata": {},
   "outputs": [
    {
     "data": {
      "text/plain": [
       "{'max_iter': 1000}"
      ]
     },
     "execution_count": 74,
     "metadata": {},
     "output_type": "execute_result"
    }
   ],
   "source": [
    "# meilleurs paramètres du modèle\n",
    "model.best_params_"
   ]
  },
  {
   "cell_type": "code",
   "execution_count": 75,
   "metadata": {},
   "outputs": [
    {
     "data": {
      "text/plain": [
       "<AxesSubplot:>"
      ]
     },
     "execution_count": 75,
     "metadata": {},
     "output_type": "execute_result"
    },
    {
     "data": {
      "image/png": "[encoded data removed]",
      "text/plain": [
       "<Figure size 432x288 with 2 Axes>"
      ]
     },
     "metadata": {
      "needs_background": "light"
     },
     "output_type": "display_data"
    }
   ],
   "source": [
    "mat = confusion_matrix(y_val, model.predict(X_val) )\n",
    "\n",
    "sb.heatmap(mat, annot=True)\n"
   ]
  },
  {
   "cell_type": "code",
   "execution_count": 78,
   "metadata": {},
   "outputs": [
    {
     "data": {
      "text/plain": [
       "['cvec.joblib']"
      ]
     },
     "execution_count": 78,
     "metadata": {},
     "output_type": "execute_result"
    }
   ],
   "source": [
    "#export des modèles \n",
    "joblib.dump(model, 'model.joblib')\n",
    "joblib.dump(cvec, 'cvec.joblib')"
   ]
  }
 ],
 "metadata": {
  "interpreter": {
   "hash": "1215b6d9e98c608af6c98076ac69926165476300228df4abad2e199a1ec40446"
  },
  "kernelspec": {
   "display_name": "Python 3.8.10 ('.env': venv)",
   "language": "python",
   "name": "python3"
  },
  "language_info": {
   "codemirror_mode": {
    "name": "ipython",
    "version": 3
   },
   "file_extension": ".py",
   "mimetype": "text/x-python",
   "name": "python",
   "nbconvert_exporter": "python",
   "pygments_lexer": "ipython3",
   "version": "3.8.10"
  },
  "orig_nbformat": 4
 },
 "nbformat": 4,
 "nbformat_minor": 2
}
