{
 "cells": [
  {
   "cell_type": "code",
   "execution_count": 35,
   "metadata": {},
   "outputs": [],
   "source": [
    "import re\n",
    "from wordcloud import WordCloud\n",
    "import matplotlib.pyplot as plt\n",
    "import pandas as pd\n",
    "import os\n",
    "from sklearn.model_selection import train_test_split\n",
    "import numpy as np\n",
    "import unidecode\n",
    "from sklearn.feature_extraction.text import CountVectorizer\n",
    "from sklearn.linear_model import LogisticRegression\n",
    "\n",
    "from sklearn.model_selection import GridSearchCV\n",
    "\n",
    "from nltk.corpus import stopwords\n",
    "import nltk\n",
    "import string\n",
    "from french_lefff_lemmatizer.french_lefff_lemmatizer import FrenchLefffLemmatizer\n",
    "from nltk.stem import WordNetLemmatizer \n",
    "from nltk.stem.snowball import SnowballStemmer"
   ]
  },
  {
   "cell_type": "code",
   "execution_count": 36,
   "metadata": {},
   "outputs": [],
   "source": [
    "def replace_par_regex(tex:str, langue='francais') ->str :\n",
    "    \n",
    "    \"\"\"\n",
    "    mets les caractères en minuscule\n",
    "    supprime les caractères non alphabétiques\n",
    "    \"\"\"\n",
    "\n",
    "    # mettre le texte en minuscule\n",
    "    pe = tex.lower()\n",
    "\n",
    "\n",
    "    if langue == 'english':\n",
    "        pe = re.sub('[^a-z_]','_',pe)\n",
    "    else:\n",
    "        pe = re.sub('[^a-zàâçéèêëîïôûùüÿñæœ]', '_', pe)\n",
    "    \n",
    "    # supprimer les mots de 1 ou deux lettres\n",
    "    pe = re.sub('_[a-zàâçéèêëîïôûùüÿñæœ]{1,2}_', '_',pe)\n",
    "\n",
    "    pe = re.sub('[_]{2,}','_',pe)\n",
    "    pe = re.sub('_',' ',pe)\n",
    "    \n",
    "    # supprimer le l qui reste parfois\n",
    "    pe = re.sub(' l ',' ', pe)\n",
    "\n",
    "    return pe\n",
    "\n",
    "\n",
    "\n",
    "def afficher_nuage_mots(var:str, nombre_de_mots:int, langage='francais', *args):\n",
    "\n",
    "    \"\"\"\n",
    "    affiche un nuage de mots les plus importants dans un texte\n",
    "    prend en variables une chaîne de caractère, le nombre de mots importants à afficher, la langue, un tuple d'éventuels mots à ajouter au stopwords\n",
    "    \"\"\"\n",
    "\n",
    "\n",
    "    if langage == 'english':\n",
    "        SW = stopwords.words('english')\n",
    "    else:\n",
    "        SW = stopwords.words('french')\n",
    "    \n",
    "\n",
    "    if args:\n",
    "        for el in args:\n",
    "            SW.append(el)\n",
    "\n",
    "    \n",
    "    WC = WordCloud(background_color = 'white', stopwords = SW, max_words = nombre_de_mots).generate(var)\n",
    "    plt.imshow(WC)\n",
    "    plt.axis(\"off\")\n",
    "    plt.show()\n",
    "\n",
    "\n",
    "\n",
    "\n",
    "\n",
    "\n",
    "def lemm_stem(dataset, type='stem'):\n",
    "    \n",
    "    \"\"\"\n",
    "    lemmization ou stemming d'un dataset\n",
    "    pour la lemmization, nécessité d'enlever les accents \n",
    "    retourne le dataset traité\n",
    "    \"\"\"\n",
    "\n",
    "\n",
    "\n",
    "    french_stopwords = nltk.corpus.stopwords.words('french')\n",
    "    lemmatizer = FrenchLefffLemmatizer()\n",
    "    wnl = WordNetLemmatizer() \n",
    "    stemmer = SnowballStemmer(language='french')\n",
    "\n",
    "\n",
    "\n",
    "    if type =='lemm':\n",
    "\n",
    "        for i in range(dataset.shape[0]):\n",
    "\n",
    "            st = \"\"    \n",
    "            var = unidecode.unidecode(dataset.iloc[i])\n",
    "            tokenize_sentence = nltk.tokenize.word_tokenize(var)   \n",
    "            words_w_stopwords = [i for i in tokenize_sentence if i not in french_stopwords]    \n",
    "            words_lemmatize = [wnl.lemmatize(w) for w in words_w_stopwords] \n",
    "            for j in range(len(words_lemmatize)):\n",
    "                st = st + ' ' + words_lemmatize[j] + ' '\n",
    "            dataset.iloc[i] = st\n",
    "        \n",
    "        return dataset\n",
    "\n",
    "\n",
    "    if type =='stem':\n",
    "\n",
    "        for i in range(dataset.shape[0]):\n",
    "\n",
    "            st = \"\"\n",
    "            tokenize_sentence = nltk.tokenize.word_tokenize(dataset.iloc[i])\n",
    "            words_w_stopwords = [i for i in tokenize_sentence if i not in french_stopwords]\n",
    "            words_stemming = [stemmer.stem(w) for w in words_w_stopwords]\n",
    "            for j in range(len(words_stemming)):\n",
    "                st = st + ' ' + words_stemming[j] + ' '\n",
    "            dataset.iloc[i] = st\n",
    "\n",
    "        return dataset\n",
    "\n",
    "\n",
    "def sac_de_mots(dataframe, sac):\n",
    "    \n",
    "    \"\"\"\n",
    "    ne garder que les mots du sacs de mots\n",
    "    \"\"\"\n",
    "\n",
    "    for i in range(dataframe.shape[0]):\n",
    "\n",
    "\n",
    "        liste = np.array(dataframe.iloc[i].split(' '))\n",
    "        bag = np.array(sac)\n",
    "\n",
    "        res = np.intersect1d(bag, liste) \n",
    "    \n",
    "        stri = \"\"\n",
    "\n",
    "        for occ in list(res):\n",
    "\n",
    "            stri = stri + ' ' + occ\n",
    "\n",
    "        dataframe.iloc[i] = stri\n",
    "\n",
    "\n",
    "\n",
    "def intersection(datafram, sac):\n",
    "    \n",
    "    \n",
    "    dataframe = datafram.copy()\n",
    "    \n",
    "    for i in range(10):\n",
    "\n",
    "        phra = np.array(dataframe.iloc[i].split())\n",
    "\n",
    "        phra = np.intersect1d(phra, sac)\n",
    "    \n",
    "        st = \"\"\n",
    "        for j in range(phra.shape[0]):\n",
    "            st = st + \" \" + phra[j]\n",
    "\n",
    "        dataframe.iloc[i] = st \n",
    "\n",
    "    return dataframe"
   ]
  },
  {
   "cell_type": "markdown",
   "metadata": {},
   "source": [
    "## récupérer les données"
   ]
  },
  {
   "cell_type": "code",
   "execution_count": 37,
   "metadata": {},
   "outputs": [],
   "source": [
    "data = pd.read_csv('data.csv')"
   ]
  },
  {
   "cell_type": "code",
   "execution_count": 38,
   "metadata": {},
   "outputs": [],
   "source": [
    "variable = data['commentaire'] \n",
    "target = data['note']\n",
    "\n",
    "X_train_test, X_val, y_train_test, y_val = train_test_split(variable, target, test_size = 0.1, stratify = target)\n",
    "X_train, X_test, y_train, y_test = train_test_split(X_train_test, y_train_test, test_size = 0.2, stratify = y_train_test)"
   ]
  },
  {
   "cell_type": "code",
   "execution_count": 39,
   "metadata": {},
   "outputs": [
    {
     "name": "stdout",
     "output_type": "stream",
     "text": [
      "29768-----nombre de variables totales\n",
      "21432-----nombre de variables du jeu d'entraînement\n",
      "5359------nombre de variables du jeu de test\n",
      "2977------nombre de variables du jeu de validation\n"
     ]
    }
   ],
   "source": [
    "print(f'{variable.shape[0]:-<10}nombre de variables totales')\n",
    "print(f'{X_train.shape[0]:-<10}nombre de variables du jeu d\\'entraînement')\n",
    "print(f'{X_test.shape[0]:-<10}nombre de variables du jeu de test')\n",
    "print(f'{X_val.shape[0]:-<10}nombre de variables du jeu de validation')"
   ]
  },
  {
   "cell_type": "markdown",
   "metadata": {},
   "source": [
    "## Visualisation et récupération des nuages de mots"
   ]
  },
  {
   "cell_type": "code",
   "execution_count": 40,
   "metadata": {},
   "outputs": [],
   "source": [
    "# lemmatization des jeux de données\n",
    "X_train_lemm = lemm_stem(X_train, type='lemm')\n",
    "\n",
    "X_test_lemm = lemm_stem(X_test, type='lemm')\n",
    "\n",
    "X_val_lemm = lemm_stem(X_val, type='lemm')"
   ]
  },
  {
   "cell_type": "code",
   "execution_count": 41,
   "metadata": {},
   "outputs": [],
   "source": [
    "stb = \"\"\n",
    "\n",
    "for i in range(X_train_lemm.shape[0]):\n",
    "\n",
    "    stb = stb + \" \" + X_train_lemm.iloc[i] + \" \""
   ]
  },
  {
   "cell_type": "code",
   "execution_count": 14,
   "metadata": {},
   "outputs": [
    {
     "data": {
      "image/png": "[encoded data removed]",
      "text/plain": [
       "<Figure size 432x288 with 1 Axes>"
      ]
     },
     "metadata": {
      "needs_background": "light"
     },
     "output_type": "display_data"
    }
   ],
   "source": [
    "# sac de mots avec lemmiztion\n",
    "afficher_nuage_mots(stb, nombre_de_mots=40)"
   ]
  },
  {
   "cell_type": "code",
   "execution_count": 42,
   "metadata": {},
   "outputs": [],
   "source": [
    "# récupérer les mots importants par sacs de mots\n",
    "\n",
    "nombre_mots2 = 500\n",
    "\n",
    "sac_de_mots_lemm = WordCloud(background_color = 'white', stopwords = stopwords.words('french'), max_words = nombre_mots2).generate(stb).words_\n",
    "\n",
    "sac_de_mots_lemm = list(sac_de_mots_lemm.keys())"
   ]
  },
  {
   "cell_type": "code",
   "execution_count": 43,
   "metadata": {},
   "outputs": [],
   "source": [
    "X_train_lemm = intersection(X_train_lemm, sac_de_mots_lemm)\n",
    "X_test_lemm = intersection(X_test_lemm, sac_de_mots_lemm)\n",
    "X_val_lemm = intersection(X_val_lemm, sac_de_mots_lemm)"
   ]
  },
  {
   "cell_type": "markdown",
   "metadata": {},
   "source": [
    "---------------------------------"
   ]
  },
  {
   "cell_type": "code",
   "execution_count": 44,
   "metadata": {},
   "outputs": [],
   "source": [
    "cvec = CountVectorizer()"
   ]
  },
  {
   "cell_type": "code",
   "execution_count": 45,
   "metadata": {},
   "outputs": [
    {
     "data": {
      "text/plain": [
       "CountVectorizer()"
      ]
     },
     "execution_count": 45,
     "metadata": {},
     "output_type": "execute_result"
    }
   ],
   "source": [
    "cvec.fit(sac_de_mots_lemm)"
   ]
  },
  {
   "cell_type": "code",
   "execution_count": 46,
   "metadata": {},
   "outputs": [],
   "source": [
    "X_train = pd.DataFrame(cvec.transform(X_train_lemm).todense().tolist())"
   ]
  },
  {
   "cell_type": "code",
   "execution_count": 47,
   "metadata": {},
   "outputs": [],
   "source": [
    "X_test = pd.DataFrame(cvec.transform(X_test_lemm).todense().tolist())"
   ]
  },
  {
   "cell_type": "code",
   "execution_count": 48,
   "metadata": {},
   "outputs": [],
   "source": [
    "X_val = pd.DataFrame(cvec.transform(X_val_lemm).todense().tolist())"
   ]
  },
  {
   "cell_type": "code",
   "execution_count": 49,
   "metadata": {},
   "outputs": [],
   "source": [
    "clf = LogisticRegression(max_iter=1000)"
   ]
  },
  {
   "cell_type": "code",
   "execution_count": 50,
   "metadata": {},
   "outputs": [
    {
     "data": {
      "text/plain": [
       "LogisticRegression(max_iter=1000)"
      ]
     },
     "execution_count": 50,
     "metadata": {},
     "output_type": "execute_result"
    }
   ],
   "source": [
    "clf.fit(X_train, y_train)"
   ]
  },
  {
   "cell_type": "code",
   "execution_count": 51,
   "metadata": {},
   "outputs": [
    {
     "data": {
      "text/plain": [
       "0.8321668533034714"
      ]
     },
     "execution_count": 51,
     "metadata": {},
     "output_type": "execute_result"
    }
   ],
   "source": [
    "clf.score(X_train, y_train)"
   ]
  },
  {
   "cell_type": "code",
   "execution_count": 52,
   "metadata": {},
   "outputs": [
    {
     "data": {
      "text/plain": [
       "0.8249673446538534"
      ]
     },
     "execution_count": 52,
     "metadata": {},
     "output_type": "execute_result"
    }
   ],
   "source": [
    "clf.score(X_test, y_test)"
   ]
  },
  {
   "cell_type": "code",
   "execution_count": 53,
   "metadata": {},
   "outputs": [
    {
     "data": {
      "text/plain": [
       "0.824319785018475"
      ]
     },
     "execution_count": 53,
     "metadata": {},
     "output_type": "execute_result"
    }
   ],
   "source": [
    "clf.score(X_val, y_val)"
   ]
  },
  {
   "cell_type": "code",
   "execution_count": 54,
   "metadata": {},
   "outputs": [
    {
     "data": {
      "text/plain": [
       "<AxesSubplot:>"
      ]
     },
     "execution_count": 54,
     "metadata": {},
     "output_type": "execute_result"
    },
    {
     "data": {
      "image/png": "[encoded data removed]",
      "text/plain": [
       "<Figure size 432x288 with 2 Axes>"
      ]
     },
     "metadata": {
      "needs_background": "light"
     },
     "output_type": "display_data"
    }
   ],
   "source": [
    "from sklearn.metrics import confusion_matrix\n",
    "import seaborn as sb\n",
    "\n",
    "mat = confusion_matrix(y_val, clf.predict(X_val) )\n",
    "\n",
    "sb.heatmap(mat, annot=True)\n"
   ]
  }
 ],
 "metadata": {
  "interpreter": {
   "hash": "1215b6d9e98c608af6c98076ac69926165476300228df4abad2e199a1ec40446"
  },
  "kernelspec": {
   "display_name": "Python 3.8.10 ('.env': venv)",
   "language": "python",
   "name": "python3"
  },
  "language_info": {
   "codemirror_mode": {
    "name": "ipython",
    "version": 3
   },
   "file_extension": ".py",
   "mimetype": "text/x-python",
   "name": "python",
   "nbconvert_exporter": "python",
   "pygments_lexer": "ipython3",
   "version": "3.8.10"
  },
  "orig_nbformat": 4
 },
 "nbformat": 4,
 "nbformat_minor": 2
}
