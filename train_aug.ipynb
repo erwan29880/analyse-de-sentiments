{
 "cells": [
  {
   "cell_type": "markdown",
   "metadata": {},
   "source": [
    "# Entraînement avec Data augmentation"
   ]
  },
  {
   "cell_type": "code",
   "execution_count": 2,
   "metadata": {},
   "outputs": [
    {
     "name": "stderr",
     "output_type": "stream",
     "text": [
      "/home/erwan/projets/nlp/.env/lib/python3.8/site-packages/tqdm/auto.py:22: TqdmWarning: IProgress not found. Please update jupyter and ipywidgets. See https://ipywidgets.readthedocs.io/en/stable/user_install.html\n",
      "  from .autonotebook import tqdm as notebook_tqdm\n"
     ]
    }
   ],
   "source": [
    "from bs4 import BeautifulSoup\n",
    "import requests\n",
    "import re\n",
    "import unidecode\n",
    "import time\n",
    "import os\n",
    "import json\n",
    "import joblib\n",
    "from tqdm import tqdm\n",
    "\n",
    "import matplotlib.pyplot as plt\n",
    "import pandas as pd\n",
    "import numpy as np\n",
    "import seaborn as sb\n",
    "from sklearn.model_selection import train_test_split\n",
    "from sklearn.feature_extraction.text import CountVectorizer\n",
    "from sklearn.linear_model import LogisticRegression\n",
    "from sklearn.model_selection import GridSearchCV\n",
    "from sklearn.metrics import confusion_matrix\n",
    "\n",
    "import nlpaug\n",
    "\n",
    "from wordcloud import WordCloud\n",
    "from nltk.corpus import stopwords\n",
    "import nltk\n",
    "from french_lefff_lemmatizer.french_lefff_lemmatizer import FrenchLefffLemmatizer\n",
    "from nltk.stem import WordNetLemmatizer \n",
    "from nltk.stem.snowball import SnowballStemmer\n",
    "\n",
    "# ---- first times : \n",
    "# nltk.download('wordnet')from sklearn.model_selection import GridSearchCV\n",
    "# nltk.download('punkt')\n",
    "# nltk.download('stopwords')\n",
    "# nltk.download('stopwords')\n",
    "# nltk.download('omw-1.4')"
   ]
  },
  {
   "cell_type": "markdown",
   "metadata": {},
   "source": [
    "### Déclaration des fonctions"
   ]
  },
  {
   "cell_type": "code",
   "execution_count": 66,
   "metadata": {},
   "outputs": [],
   "source": [
    "def replace_par_regex(tex:str, langue='francais') ->str :\n",
    "    \n",
    "    \"\"\"\n",
    "    mets les# liste2 = pd.DataFrame(liste)\n",
    "\n",
    "# liste2.to_csv('dataaug.csv', index=False)it caractères en minuscule\n",
    "    supprime les caractères non alphabétiques\n",
    "    \"\"\"\n",
    "\n",
    "    # mettre le texte en minuscule\n",
    "    pe = tex.lower()\n",
    "\n",
    "\n",
    "    if langue == 'english':\n",
    "        pe = re.sub('[^a-z_]','_',pe)\n",
    "    else:\n",
    "        pe = re.sub('[^a-zàâçéèêëîïôûùüÿñæœ]', '_', pe)\n",
    "    \n",
    "    # supprimer les mots de 1 ou deux lettres\n",
    "    pe = re.sub('_[a-zàâçéèêëîïôûùüÿñæœ]{1,2}_', '_',pe)\n",
    "\n",
    "    pe = re.sub('[_]{2,}','_',pe)\n",
    "    pe = re.sub('_',' ',pe)\n",
    "    \n",
    "    # supprimer le l qui reste parfois\n",
    "    pe = re.sub(' l ',' ', pe)\n",
    "\n",
    "    return pe\n",
    "\n",
    "\n",
    "\n",
    "def nbr_pages(u_r_l) -> int :  \n",
    "    \"\"\"\n",
    "    trouve le nombre de pages à parser en fonction de l'indicatif des pages dans la première page html\n",
    "    renvoie -1 en cas d'erreur    \n",
    "    \"\"\"\n",
    "\n",
    "    soupObject = parse(u_r_l)\n",
    "    \n",
    "    # récupérer dans une liste les éléments de la calsse pagination-item-holer\n",
    "    res = soupObject.find_all(\"div\", class_=\"pagination-item-holder\")\n",
    "\n",
    "    # créer une chaîne de caractère à partir de la liste\n",
    "    st = \"\"\n",
    "    for el in res:\n",
    "        st = st + (str(el))\n",
    "\n",
    "    st = st.replace('>', '<')\n",
    "\n",
    "    tab = st.split('<')\n",
    "\n",
    "    ls = []\n",
    "    for i in tab:\n",
    "\n",
    "        try:\n",
    "            ls.append(int(i))\n",
    "        except:\n",
    "            continue\n",
    "\n",
    "    if len(ls) > 0:\n",
    "        return max(ls)\n",
    "    else:\n",
    "       return 1\n",
    "\n",
    "\n",
    "\n",
    "def afficher_nuage_mots(var:str, nombre_de_mots:int, langage='francais', *args):\n",
    "\n",
    "    \"\"\"\n",
    "    affiche un nuage de mots les plus importants dans un texte\n",
    "    prend en variables une chaîne de caractère, le nombre de mots importants à afficher, la langue, un tuple d'éventuels mots à ajouter au stopwords\n",
    "    \"\"\"\n",
    "\n",
    "\n",
    "    if langage == 'english':\n",
    "        SW = stopwords.words('english')\n",
    "    else:\n",
    "        SW = stopwords.words('french')\n",
    "    \n",
    "\n",
    "    if args:\n",
    "        for el in args:\n",
    "            SW.append(el)\n",
    "\n",
    "    \n",
    "    WC = WordCloud(background_color = 'white', stopwords = SW, max_words = nombre_de_mots).generate(var)\n",
    "    plt.imshow(WC)\n",
    "    plt.axis(\"off\")\n",
    "    plt.show()\n",
    "\n",
    "\n",
    "\n",
    "def parse(u_r_l, html = True):\n",
    "\n",
    "    \"\"\"\n",
    "    récupère le contenu d'une page html\n",
    "    structure la réponse de requests\n",
    "    transforme en objet avec ou sans le html\n",
    "    retourne un objet Beautiful ou une chaîne de caractère    \n",
    "    \"\"\"\n",
    "\n",
    "    # récupérer le contenu d'une page web\n",
    "    page = requests.get(u_r_l)\n",
    "\n",
    "    # structure la page\n",
    "    soup = BeautifulSoup(page.content, 'html.parser')\n",
    "\n",
    "\n",
    "    if html == False:\n",
    "        soup = str(soup.get_text())\n",
    "        \n",
    "    \n",
    "    return soup\n",
    "\n",
    "\n",
    "\n",
    "def find_comment_and_rating(u_r_l):\n",
    "    \n",
    "    \"\"\"\n",
    "    trouver la division de la note, et retourner la note en float\n",
    "    trouver la div du commentaire et retourner le commentaire\n",
    "    \"\"\"\n",
    "\n",
    "    global dico\n",
    "\n",
    "    # div de la note\n",
    "    division_principale = 'hred review-card cf'\n",
    "    division_note = \"stareval-note\"\n",
    "    division_commentaire = \"content-txt review-card-content\"\n",
    "\n",
    "    # récupérer la page internet\n",
    "    soup = parse(u_r_l)\n",
    "    foo = soup.find_all(\"div\", class_= division_principale)\n",
    "\n",
    "    title = soup.find('div', class_='titlebar titlebar-page')\n",
    "    title = title.get_text()\n",
    "\n",
    "    # récupérer la div des notes \n",
    "\n",
    "    dico = dict()\n",
    "    \n",
    "\n",
    "    for i in range(len(foo)):\n",
    "\n",
    "        # parsage du parsage\n",
    "\n",
    "        # --- la note\n",
    "        ts = str(foo[i])\n",
    "        fff = BeautifulSoup(ts, 'html.parser')\n",
    "        ggg = fff.find('span', class_= division_note)\n",
    "\n",
    "        # récupérer la note sans le html\n",
    "        ggg  = ggg.get_text()\n",
    "        ggg  = float(ggg.replace(',','.'))\n",
    "\n",
    "\n",
    "        # --- le commentaire\n",
    "        hhh = fff.find('div', class_= division_commentaire)\n",
    "        hhh = hhh.get_text()\n",
    "        hhh = replace_par_regex(hhh)\n",
    "\n",
    "        dico[hhh] = ggg\n",
    "       \n",
    "    return dico, title\n",
    "\n",
    "\n",
    "\n",
    "def recuperer_donnees_to_df(u_r_l):\n",
    "    \n",
    "    dci, title = find_comment_and_rating(u_r_l)\n",
    "    nombre_de_pages_a_parser = nbr_pages(u_r_l)\n",
    "\n",
    "    suffixe_url = '?page='\n",
    "\n",
    "    url_complete = u_r_l + suffixe_url\n",
    "\n",
    "    for i in range(2, nombre_de_pages_a_parser + 1):\n",
    "        url = url_complete + str(i)\n",
    "        \n",
    "        try:\n",
    "            data, _ = find_comment_and_rating(url)\n",
    "            dci.update(data)\n",
    "        except:\n",
    "            continue\n",
    "\n",
    "        time.sleep(0.2)\n",
    "\n",
    "\n",
    "    # enregistrer le dictionnaire en csv ; le nom du csv est le timestamp\n",
    "\n",
    "    ts = time.time()\n",
    "    ts = str(int(ts))\n",
    "    ts = ts + '.csv'\n",
    "    title = title + '.csv'\n",
    "\n",
    "    df = pd.DataFrame.from_dict(dci, orient='index')\n",
    "    try:\n",
    "        df.to_csv('./datas/'+title)\n",
    "    except:\n",
    "        df.to_csv('./datas/'+ts)\n",
    "\n",
    "\n",
    "def clean_csv():\n",
    "\n",
    "    \"\"\"\n",
    "    supprimer les fichiers csv du répertoire\n",
    "    \"\"\"\n",
    "\n",
    "    for el in os.listdir():\n",
    "        if 'csv' in el:\n",
    "            os.remove(el)\n",
    "  \n",
    "\n",
    "\n",
    "def recupere_csv():\n",
    "    \n",
    "    \"\"\"\n",
    "    récupérer les fichiers csv créés\n",
    "    \"\"\"\n",
    "    \n",
    "    liste = []\n",
    "    for fichier in (os.listdir('./data')):\n",
    "        if 'csv' in fichier:\n",
    "\n",
    "            adresse = os.path.join('data', fichier)\n",
    "            \n",
    "            liste.append(pd.read_csv(adresse))\n",
    "\n",
    "    return liste, len(liste)\n",
    "\n",
    "\n",
    "def lemm_stem(dataset, type='stem'):\n",
    "    \n",
    "    \"\"\"\n",
    "    lemmization ou stemming d'un dataset\n",
    "    pour la lemmization, nécessité d'enlever les accents \n",
    "    retourne le dataset traité\n",
    "    \"\"\"\n",
    "\n",
    "\n",
    "\n",
    "    french_stopwords = nltk.corpus.stopwords.words('french')\n",
    "    lemmatizer = FrenchLefffLemmatizer()\n",
    "    wnl = WordNetLemmatizer() \n",
    "    stemmer = SnowballStemmer(language='french')\n",
    "\n",
    "\n",
    "\n",
    "    if type =='lemm':\n",
    "\n",
    "        for i in range(dataset.shape[0]):\n",
    "\n",
    "            st = \"\"    \n",
    "            var = unidecode.unidecode(dataset.iloc[i, 0])\n",
    "            tokenize_sentence = nltk.tokenize.word_tokenize(var)   \n",
    "            words_w_stopwords = [i for i in tokenize_sentence if i not in french_stopwords]    \n",
    "            words_lemmatize = [wnl.lemmatize(w) for w in words_w_stopwords] \n",
    "            for j in range(len(words_lemmatize)):\n",
    "                st = st + ' ' + words_lemmatize[j] + ' '\n",
    "            dataset.iloc[i,0] = st\n",
    "        \n",
    "        return dataset\n",
    "\n",
    "\n",
    "    if type =='stem':\n",
    "\n",
    "        for i in range(dataset.shape[0]):\n",
    "\n",
    "            st = \"\"\n",
    "            tokenize_sentence = nltk.tokenize.word_tokenize(dataset.iloc[i, 0])\n",
    "            words_w_stopwords = [i for i in tokenize_sentence if i not in french_stopwords]\n",
    "            words_stemming = [stemmer.stem(w) for w in words_w_stopwords]\n",
    "            for j in range(len(words_stemming)):\n",
    "                st = st + ' ' + words_stemming[j] + ' '\n",
    "            dataset.iloc[i, 0] = st\n",
    "\n",
    "        return dataset\n",
    "\n",
    "\n",
    "def sac_de_mots(dataframe, sac):\n",
    "    \n",
    "    \"\"\"\n",
    "    ne garder que les mots du sacs de mots\n",
    "    \"\"\"\n",
    "\n",
    "    for i in range(dataframe.shape[0]):\n",
    "\n",
    "\n",
    "        liste = np.array(dataframe.iloc[i].split(' '))\n",
    "        bag = np.array(sac)\n",
    "\n",
    "        res = np.intersect1d(bag, liste) \n",
    "    \n",
    "        stri = \"\"\n",
    "\n",
    "        for occ in list(res):\n",
    "\n",
    "            stri = stri + ' ' + occ\n",
    "\n",
    "        dataframe.iloc[i] = stri\n",
    "\n",
    "\n",
    "\n",
    "def intersection(datafram, sac):\n",
    "\n",
    "    \n",
    "    dataframe = datafram.copy()\n",
    "    for i in range(dataframe.shape[0]):\n",
    "    # for i in range(10):\n",
    "\n",
    "        phra = np.array(dataframe.iloc[i, 0].split())\n",
    "\n",
    "        phra = np.intersect1d(phra, sac)\n",
    "    \n",
    "        st = \"\"\n",
    "        for j in range(phra.shape[0]):\n",
    "            st = st + \" \" + phra[j]\n",
    "\n",
    "        dataframe.iloc[i, 0] = st \n",
    "\n",
    "    return dataframe"
   ]
  },
  {
   "cell_type": "markdown",
   "metadata": {},
   "source": [
    "## Charger les csv préparés auparavant avec les commentaires et la data-augmentation   \n",
    "\n",
    "> dans le fichier train.ipynb"
   ]
  },
  {
   "cell_type": "code",
   "execution_count": 11,
   "metadata": {},
   "outputs": [],
   "source": [
    "data1 = pd.read_csv('data_total.csv')\n",
    "data1 = data1.rename(columns={data1.columns[0]:'commentaire', data1.columns[1]:'note'})\n",
    "data2 = pd.read_csv('dataaug2.csv')"
   ]
  },
  {
   "cell_type": "code",
   "execution_count": 19,
   "metadata": {},
   "outputs": [],
   "source": [
    "data = pd.concat((data1, data2), ignore_index=True)"
   ]
  },
  {
   "cell_type": "code",
   "execution_count": 32,
   "metadata": {},
   "outputs": [],
   "source": [
    "df = data.copy()"
   ]
  },
  {
   "cell_type": "markdown",
   "metadata": {},
   "source": [
    "#### préparer les labels"
   ]
  },
  {
   "cell_type": "code",
   "execution_count": 33,
   "metadata": {},
   "outputs": [],
   "source": [
    "for i in range(df.shape[0]):\n",
    "    \n",
    "    if df.loc[i, 'note'] > 2.5:\n",
    "        df.loc[i, 'note'] = 1\n",
    "    else:\n",
    "        df.loc[i, 'note'] = 0\n"
   ]
  },
  {
   "cell_type": "code",
   "execution_count": 34,
   "metadata": {},
   "outputs": [
    {
     "data": {
      "text/plain": [
       "1.0    34141\n",
       "0.0    25523\n",
       "Name: note, dtype: int64"
      ]
     },
     "execution_count": 34,
     "metadata": {},
     "output_type": "execute_result"
    }
   ],
   "source": [
    "df['note'].value_counts()"
   ]
  },
  {
   "cell_type": "markdown",
   "metadata": {},
   "source": [
    "> il y a toujours plus de notes positives, on équilibre"
   ]
  },
  {
   "cell_type": "code",
   "execution_count": 39,
   "metadata": {},
   "outputs": [],
   "source": [
    "df_good = df[df['note'] == 1].iloc[:25523, :]\n",
    "df_bad = df[df['note'] == 0]"
   ]
  },
  {
   "cell_type": "code",
   "execution_count": 40,
   "metadata": {},
   "outputs": [],
   "source": [
    "df = pd.concat((df_good, df_bad), ignore_index=True)"
   ]
  },
  {
   "cell_type": "code",
   "execution_count": 43,
   "metadata": {},
   "outputs": [
    {
     "data": {
      "text/plain": [
       "<AxesSubplot:ylabel='note'>"
      ]
     },
     "execution_count": 43,
     "metadata": {},
     "output_type": "execute_result"
    },
    {
     "data": {
      "image/png": "[encoded data removed]",
      "text/plain": [
       "<Figure size 432x288 with 1 Axes>"
      ]
     },
     "metadata": {},
     "output_type": "display_data"
    }
   ],
   "source": [
    "df['note'].value_counts().plot.pie()"
   ]
  },
  {
   "cell_type": "markdown",
   "metadata": {},
   "source": [
    "## Séparation du jeu de données et réduction de dimensions"
   ]
  },
  {
   "cell_type": "code",
   "execution_count": 44,
   "metadata": {},
   "outputs": [],
   "source": [
    "X_train, X_test, y_train, y_test = train_test_split(df['commentaire'], df['note'], random_state=3, stratify=df['note'])"
   ]
  },
  {
   "cell_type": "code",
   "execution_count": 48,
   "metadata": {},
   "outputs": [],
   "source": [
    "da1 = X_train.copy()\n",
    "da1 = X_train.reset_index(drop=True)\n",
    "da2 = y_train.copy()\n",
    "da2 = y_train.reset_index(drop=True)\n",
    "da1 = pd.DataFrame(da1)\n",
    "da1['note'] = da2\n",
    "\n",
    "df_bad = da1[da1['note']==0]\n",
    "df_good = da1[da1['note']==1]"
   ]
  },
  {
   "cell_type": "code",
   "execution_count": 53,
   "metadata": {},
   "outputs": [
    {
     "data": {
      "image/png": "[encoded data removed]",
      "text/plain": [
       "<Figure size 432x288 with 1 Axes>"
      ]
     },
     "metadata": {
      "needs_background": "light"
     },
     "output_type": "display_data"
    }
   ],
   "source": [
    "st_bad = \"\"\n",
    "\n",
    "for i in range(df_bad.shape[0]):\n",
    "\n",
    "    st_bad = st_bad + \" \" + df_bad.iloc[i, 0] + \" \"\n",
    "\n",
    "\n",
    "afficher_nuage_mots(st_bad, nombre_de_mots=40)"
   ]
  },
  {
   "cell_type": "code",
   "execution_count": 54,
   "metadata": {},
   "outputs": [
    {
     "data": {
      "image/png": "[encoded data removed]",
      "text/plain": [
       "<Figure size 432x288 with 1 Axes>"
      ]
     },
     "metadata": {
      "needs_background": "light"
     },
     "output_type": "display_data"
    }
   ],
   "source": [
    "st_good = \"\"\n",
    "\n",
    "for i in range(df_good.shape[0]):\n",
    "\n",
    "    st_good = st_bad + \" \" + df_good.iloc[i, 0] + \" \"\n",
    "\n",
    "\n",
    "afficher_nuage_mots(st_good, nombre_de_mots=40)"
   ]
  },
  {
   "cell_type": "code",
   "execution_count": 56,
   "metadata": {},
   "outputs": [],
   "source": [
    "nombre_mots2 = 500\n",
    "\n",
    "sac_de_mots_bad = WordCloud(background_color = 'white', stopwords = stopwords.words('french'), max_words = nombre_mots2).generate(st_bad).words_\n",
    "sac_de_mots_good = WordCloud(background_color = 'white', stopwords = stopwords.words('french'), max_words = nombre_mots2).generate(st_good).words_\n",
    "#\n",
    "#  transformer les mots (clé du dictionnaire) en listes\n",
    "sac_de_mots_bad = list(sac_de_mots_bad.keys())\n",
    "sac_de_mots_good =  list(sac_de_mots_good.keys())\n",
    "\n",
    "sac_de_mots_good.remove('film')\n",
    "sac_de_mots_bad.remove('film')"
   ]
  },
  {
   "cell_type": "code",
   "execution_count": 68,
   "metadata": {},
   "outputs": [],
   "source": [
    "df_bad = intersection(df_bad, sac_de_mots_bad)\n",
    "df_good = intersection(df_good, sac_de_mots_good)"
   ]
  },
  {
   "cell_type": "markdown",
   "metadata": {},
   "source": [
    "## Entraînement du modèle"
   ]
  },
  {
   "cell_type": "code",
   "execution_count": 72,
   "metadata": {},
   "outputs": [],
   "source": [
    "X_train = pd.concat((df_bad, df_good), ignore_index=True)\n",
    "X_train = X_train.sample(frac=1).reset_index(drop=True)\n",
    "\n",
    "y_train = X_train.drop('commentaire', axis=1)\n",
    "X_train = X_train['commentaire']"
   ]
  },
  {
   "cell_type": "code",
   "execution_count": 75,
   "metadata": {},
   "outputs": [],
   "source": [
    "cvec = CountVectorizer()"
   ]
  },
  {
   "cell_type": "code",
   "execution_count": 76,
   "metadata": {},
   "outputs": [
    {
     "data": {
      "text/plain": [
       "CountVectorizer()"
      ]
     },
     "execution_count": 76,
     "metadata": {},
     "output_type": "execute_result"
    }
   ],
   "source": [
    "cvec.fit(np.intersect1d(sac_de_mots_good, sac_de_mots_bad))"
   ]
  },
  {
   "cell_type": "code",
   "execution_count": 77,
   "metadata": {},
   "outputs": [],
   "source": [
    "X_train = pd.DataFrame(cvec.transform(X_train).todense().tolist())\n",
    "X_test = pd.DataFrame(cvec.transform(X_test).todense().tolist())"
   ]
  },
  {
   "cell_type": "code",
   "execution_count": 84,
   "metadata": {},
   "outputs": [],
   "source": [
    "param = {\n",
    "    'max_iter' : [1000, 10000], \n",
    "    'C' : [0.1, 0.4, 0.7],\n",
    "    'penalty': ['l1', 'l2', 'elasticnet', 'none'],\n",
    "    'warm_start' : [True, False]\n",
    "}\n",
    "\n",
    "\n",
    "model = GridSearchCV(LogisticRegression(), param_grid=param, cv=5)\n",
    "\n",
    "\n",
    "model.fit(X_train, np.array(y_train).ravel()) \n",
    "score_train = model.best_score_\n",
    "score_test = model.score(X_test, np.array(y_test).ravel())\n"
   ]
  },
  {
   "cell_type": "code",
   "execution_count": 81,
   "metadata": {},
   "outputs": [
    {
     "name": "stdout",
     "output_type": "stream",
     "text": [
      "0.8389405975832414------------ score sur les données d'entraînement\n",
      "0.8167215170036044------------ score sur les données de test\n"
     ]
    }
   ],
   "source": [
    "print(f'{score_train:-<30} score sur les données d\\'entraînement')\n",
    "print(f'{score_test:-<30} score sur les données de test')"
   ]
  },
  {
   "cell_type": "code",
   "execution_count": 82,
   "metadata": {},
   "outputs": [
    {
     "data": {
      "text/plain": [
       "{'C': 0.7, 'max_iter': 1000, 'penalty': 'l2', 'warm_start': True}"
      ]
     },
     "execution_count": 82,
     "metadata": {},
     "output_type": "execute_result"
    }
   ],
   "source": [
    "model.best_params_"
   ]
  },
  {
   "cell_type": "code",
   "execution_count": 83,
   "metadata": {},
   "outputs": [
    {
     "data": {
      "text/plain": [
       "0.8389405975832414"
      ]
     },
     "execution_count": 83,
     "metadata": {},
     "output_type": "execute_result"
    }
   ],
   "source": [
    "model.best_score_"
   ]
  }
 ],
 "metadata": {
  "interpreter": {
   "hash": "1215b6d9e98c608af6c98076ac69926165476300228df4abad2e199a1ec40446"
  },
  "kernelspec": {
   "display_name": "Python 3.8.10 ('.env': venv)",
   "language": "python",
   "name": "python3"
  },
  "language_info": {
   "codemirror_mode": {
    "name": "ipython",
    "version": 3
   },
   "file_extension": ".py",
   "mimetype": "text/x-python",
   "name": "python",
   "nbconvert_exporter": "python",
   "pygments_lexer": "ipython3",
   "version": "3.8.10"
  },
  "orig_nbformat": 4
 },
 "nbformat": 4,
 "nbformat_minor": 2
}
